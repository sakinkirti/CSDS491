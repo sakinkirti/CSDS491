{
 "cells": [
  {
   "cell_type": "markdown",
   "metadata": {
    "Collapsed": "false"
   },
   "source": [
    "## EECS 491 Assignment 2\n",
    "\n",
    "Due Mon Mar 8 before midnight. 100 points total.\n",
    "\n",
    "### Submitting assignments to Canvas\n",
    "\n",
    "- For jupyter notebooks, submit the .ipynb file and a pdf export of the notebook.\n",
    "- Make sure you check that the pdf export represents the latest state of your notebook and that the equations and figures are properly rendered.\n",
    "\n",
    "- If your are not using notebooks, writeup your assignment using latex and submit a pdf with your code.  The writeup should include relevant code with description if it can fit on a page.  \n",
    "\n",
    "- Use the following format for filenames:\n",
    "  - `EECS491-A2-yourcaseid.ipynb`\n",
    "  - `EECS491-A2-yourcaseid.pdf`\n",
    "\n",
    "- If you have more than these two files, put any additional files in a directory named `EECS491-A2-yourcaseid`. Do not include binaries or large data files. Then zip this directory and submit it with the name `EECS491-A2-yourcaseid.zip`.  Do not use other compression formats.  The `.ipynb` file can be included in the zipped directory, but make sure you submit the `.pdf` file along with the `.zip` file.  This is so it appears at the top level on canvas, which allows for easier grading."
   ]
  },
  {
   "cell_type": "code",
   "execution_count": 6,
   "metadata": {},
   "outputs": [],
   "source": [
    "import pgmpy\n",
    "import networkx as nx\n",
    "from matplotlib import pyplot as plt"
   ]
  },
  {
   "cell_type": "markdown",
   "metadata": {
    "Collapsed": "false"
   },
   "source": [
    "### Q1. Conditional Independence (10 pts)\n",
    "\n",
    "Consider the following Bayes net. (Recreated using networkx for practice)"
   ]
  },
  {
   "cell_type": "code",
   "execution_count": 35,
   "metadata": {
    "Collapsed": "false"
   },
   "outputs": [
    {
     "data": {
      "image/png": "[encoded data removed]",
      "text/plain": [
       "<Figure size 640x480 with 1 Axes>"
      ]
     },
     "metadata": {},
     "output_type": "display_data"
    }
   ],
   "source": [
    "# create graph\n",
    "g = nx.DiGraph()\n",
    "g.add_nodes_from([\"a\", \"b\", \"c\", \"d\", \"e\"])\n",
    "g.add_edges_from([(\"a\", \"c\"), (\"b\", \"c\"), (\"c\", \"d\"), (\"c\", \"e\")])\n",
    "\n",
    "# plot graph\n",
    "nx.draw_networkx(g)\n",
    "plt.show()"
   ]
  },
  {
   "cell_type": "markdown",
   "metadata": {
    "Collapsed": "false"
   },
   "source": [
    "1.1. (5 pts) Show that $a$ is independent of $b$ given no other infomration, i.e.\n",
    "$$\n",
    "a \\perp b\\, |\\, \\varnothing\n",
    "$$\n",
    "First we can apply the definition of independence to show what we want to prove. Then we can compare this to what is derived from our graphical model.\n",
    "$$ a \\perp b \\implies p(a, b)=p(a)p(b) $$\n",
    "$$ p(a, b)=\\sum_{c, d, e} p(a, b, c, d, e)=\\sum_c p(c|a,b)p(a)p(b) * \\sum_d p(d|c) * \\sum_e p(e|c) $$\n",
    "Since we know that $\\sum_a p(a|\\text{parent of } a) = 1$, this reduces to\n",
    "$$ = \\sum_c p(c|a,b)p(a)p(b) * 1 * 1 = p(a)p(b) $$\n",
    "\n",
    "1.2. (5 pts) Prove or disprove the following using basic probability (i.e. not using d-separation)\n",
    "$$\n",
    "a \\perp b\\, |\\, e\n",
    "$$\n",
    "First, we can apply the definition of independence to show what we want to prove. Then we can compare this to what is derived from our graphical model.\n",
    "$$ a \\perp b|e \\implies p(a, b|e) = p(a|e)p(b|e) $$\n",
    "Based on this, we can show that $p(a|e) = p(a|b,e)$ because $p(a|b)=\\frac{p(a,b)}{p(b)}$\n",
    "$$ p(a|e)=\\frac{p(a|e)p(b|e)}{p(b|e)}=\\frac{p(a,b|e)}{p(b|e)}=p(a|b,e) $$\n",
    "In addition to this, we know that $a \\perp b | \\varnothing$ is true, so we can check if $p(a|b,e)=p(a|e)$\n",
    "$$ p(a|b,e)=\\frac{p(a,b,e)}{p(b,e)}=\\frac{\\sum_c p(a,b,c,e)}{\\sum_a \\sum_c p(a,b,c,e)}=\\frac{\\sum_c p(e|c)p(a,b,c)}{\\sum_a \\sum_c p(e|c)p(a|a,b)p(a,b)}=\\frac{\\sum_c p(e|c)p(a,b,c)}{\\sum_c p(e|c)p(b,c)} $$\n",
    "$$ p(a|e)=\\frac{p(a,e)}{p(e)}=\\frac{\\sum_c p(a,b,c,e)}{\\sum_a \\sum_c p(a,b,c,e)}=\\frac{\\sum_c p(e|c) \\sum_b p(a,b,c)}{\\sum_c p(e|c)p(c)}=\\frac{\\sum_c p(e|c)p(a,c)}{\\sum_c p(e|c)p(c)} $$\n",
    "Based on the above analysis, the final results show that if $b=1$ then $a \\perp b | e$"
   ]
  },
  {
   "cell_type": "markdown",
   "metadata": {
    "Collapsed": "false"
   },
   "source": [
    "### Q2. Conditional Independence and Causality (5 pts)\n",
    "\n",
    "Consider the following model"
   ]
  },
  {
   "cell_type": "code",
   "execution_count": 41,
   "metadata": {
    "Collapsed": "false"
   },
   "outputs": [
    {
     "data": {
      "image/png": "[encoded data removed]",
      "text/plain": [
       "<Figure size 640x480 with 1 Axes>"
      ]
     },
     "metadata": {},
     "output_type": "display_data"
    }
   ],
   "source": [
    "g = nx.DiGraph()\n",
    "g.add_nodes_from([\"a\",\"b\",\"c\"])\n",
    "g.add_edges_from([(\"a\", \"b\"), (\"a\", \"c\")])\n",
    "nx.draw_networkx(g)"
   ]
  },
  {
   "cell_type": "markdown",
   "metadata": {
    "Collapsed": "false"
   },
   "source": [
    "Show that this causal relationship suggested by the arrows does not necessarily hold, because the identical distribution can be represented by a model defined by different conditional distributions.  What conditional independence assumption does this model make?<br><br>\n",
    "This model makes the assumption that $b \\perp c|a$ since $p(b,c|a)=p(b|a)p(c|a)$. Therefore, the joint distribution of the model is $p(a,b,c)=p(b|c)p(a|c)p(a)$. But, this joint distribution can be modeled several different ways. One additional way, this distribution can be modeled is $p(a,b,c)=p(c|a,b)p(a|b)p(b)$. Therefore, the purpose of this graph does not necessarily hold."
   ]
  },
  {
   "cell_type": "markdown",
   "metadata": {
    "Collapsed": "false"
   },
   "source": [
    "### Q3. Model Complexity, Free Parameters, and Simplifying Assumptions (20 pts)\n",
    "\n",
    "3.1. (5 pts) Consider a *general* joint probability distribution with $N$ variables $x_1 \\ldots x_N$ each of which can have $K$ values. What is the expression for the joint distribution in terms of conditional probabilities?\n",
    "$$ p(x_1,x_2,...,x_N)=p(x_1|x_2,x_3,...,x_N)p(x_2,x_3,...,x_N) $$\n",
    "$$ =p(x_1|x_2,x_3,...,x_N)p(x_2|x_3,x_4,...,x_N)p(x_3,...,x_N) $$\n",
    "$$ =p(x_N)*\\prod_{i=1}^{N-1} p(x_i|x_{i+1},x_{i+2},...x_N) $$\n",
    "\n",
    "3.2. (5 pts) What is the total number of free-paramters requried to specify this model?  (Note: the term \"free parameter\" means a parameter that is unconstrained.  For example a Beroulli distribution to describe a coin flip has one free parameter $\\theta$ to describe, say, the probability of heads; the probability of tails must be $1-\\theta$, because the probability is constrained to sum to one.) Provide both the exact expression and a simpler one in \"big-O\" notation.<br>\n",
    "Since there are $K$ possible states for $N$ different variables, we can have $K^N$ combinations. Since the last state and last variables can be generalized as a negation of the previous set of states, we actually have $N-1$ variables and $K-1$ states. Therefore we have $K^N -1$ which can be written as $O(K^N)$\n",
    "\n",
    "3.3. (5 pts) Now suppose that the complexity of the model is constrained, so that each variable depends on (at most) $m$ other variables and is conditionally independent of the rest, i.e. a Bayes net.  Each node has $m$ parents and there are $m$ root nodes.  How many parameters are required to define this model?<br>\n",
    "The $m$ root nodes will have $K$ states, therefore needing a total of $m(K-1)$ parameters. The rest of the $N-m$ nodes will each have $K-1$ parameters and $K^m$ parameters to define its parents. Therefore we will have $m(K-1)+(N-m)(K-1)K^m$ total parameters needed.\n",
    "\n",
    "3.4. (5 pts) Let us make one more simplifying assumption, which is that in addition to depending on only $m$ variables, the conditional probability is described by a noisy-OR function (K=2, see Q3).  What is the expression for the number of parameters in this case?<br>\n",
    "The formula for a leaky or can be changed such that our $K^m$ states previously can be rewritten as $m^{K-1}+1$ giving the following: $m+(N-m)(m+1)$"
   ]
  },
  {
   "cell_type": "markdown",
   "metadata": {
    "Collapsed": "false"
   },
   "source": [
    "### Q4. Models of Conditional Probability (20 pts)\n",
    "\n",
    "In Bayesian networks (or directed acyclic graphical models), the joint probability distribution is factored into the product of conditional probability distributions\n",
    "\n",
    "$$\n",
    "p(x) = \\prod_{i=1}^N p(x_i|\\textrm{pa}(x_i))\n",
    "$$"
   ]
  },
  {
   "cell_type": "markdown",
   "metadata": {
    "Collapsed": "false"
   },
   "source": [
    "As we used the previous problem, a simplifying assumption for the conditional probability is noisy-OR model\n",
    "\n",
    "$$\n",
    "p(x_i | \\textrm{pa}({x_i})) = 1 - (1 - \\mu_{i0}) \\prod_{\\normalsize j \\in \\textrm{pa}(x_i)}(1 - \\mu_{ij})^{x_j}\n",
    "$$\n",
    "\n",
    "where $j$ is an index over the parents of $x_i$.  Note that the exponent $x_j$ is either 0 or 1 so the term is either 1 or $1-\\mu_{ij}$ depending on the state of the parent $x_j$."
   ]
  },
  {
   "cell_type": "markdown",
   "metadata": {
    "Collapsed": "false"
   },
   "source": [
    "4.1 (5 pts) Show that the noisy-OR function can be interpreted as a \"soft\" (i.e. probabilistic) form of the logical OR function, i.e. the function gives $x_i = 1$ whenever at least one of the parents is 1.<br>\n",
    "When each node has at least one parent with a high $\\mu_{ij}$, we have low $1-\\mu_{ij}$. This therefore brings the overall $p(x_i=1|\\text{parents of }x_i)$ to be closer to 0. Since just one parent with high $\\mu_{ij}$ increases the overall output, this works like an OR gate where just one parent is needed to be 1 to set to the output to 1. Additionally, this OR is considered \"soft\" or probabalistic because the output value will get close to 1, but will never be 1.\n",
    "\n",
    "4.2 (5 pts) What is the interpretation of $\\mu_{i0}$? Provide a clear explanation.<br>\n",
    "$\\mu_{i0}$ is a leak node defined in the Díez version of the leaky noise OR function. In this situation, it is used to help estimate the prior even if not all parents are 1. "
   ]
  },
  {
   "cell_type": "markdown",
   "metadata": {
    "Collapsed": "false"
   },
   "source": [
    "Another choice for the conditional probability is a sigmoid function\n",
    "\n",
    "$$\n",
    "p(x_i | \\textrm{pa}({x_i})) = \\sigma\n",
    "\\left(\n",
    "w_{i0} + \\sum_{\\normalsize j \\in \\textrm{pa}(x_i)} w_{ij} x_j\n",
    "\\right)\\,, \\quad \\textrm{where} \\;\n",
    "\\sigma(a) = \\frac{1}{1+e^{-a}}\n",
    "$$\n",
    "\n",
    "where $\\sigma (a)$ is the logistic sigmoid function."
   ]
  },
  {
   "cell_type": "markdown",
   "metadata": {
    "Collapsed": "false"
   },
   "source": [
    "4.3 (5 pts) Contrast the noisy-OR function and the sigmoid mathematically.  Is one more general than the other?  Can each compute unique functions?<br>\n",
    "Using a sigmoid function the noisy OR function becomes\n",
    "$$ p(x_i|\\text{parents of }x_i)=1-\\prod_{j \\in \\text{parents of }x_i + x_0} (1-\\mu_{ij})^x_j $$\n",
    "\n",
    "In either case, both the noisy OR and sigmoid functions conmpute a transformation function for weighted inputs. The sigmoid function is more general because it can also take in negative values and can take any value for the weights. In contrast, the noisy OR function is limited in the range of values it can take in weights and can only take positive values as weights."
   ]
  },
  {
   "cell_type": "markdown",
   "metadata": {
    "Collapsed": "false"
   },
   "source": [
    "4.4 (5 pts) Think of two examples, one for the noisy-OR and one for the sigmoid, that contrast the way these functions model the conditional dependencies.  Explain how each is appropriately modeled by one function but not the other."
   ]
  },
  {
   "cell_type": "markdown",
   "metadata": {
    "Collapsed": "false"
   },
   "source": [
    "### Q5. Car Troubles (25 pts)\n",
    "\n",
    "(Adpted from Barber Exercise 3.6) Your friend has car trouble.  The probability of the car starting is described by the model below, with the probabilities givien in Barber 3.6."
   ]
  },
  {
   "cell_type": "code",
   "execution_count": 8,
   "metadata": {
    "Collapsed": "false"
   },
   "outputs": [
    {
     "data": {
      "image/svg+xml": "<?xml version=\"1.0\" encoding=\"UTF-8\"?>\n<svg xmlns=\"http://www.w3.org/2000/svg\" xmlns:xlink=\"http://www.w3.org/1999/xlink\" width=\"122.841pt\" height=\"96.466pt\" viewBox=\"0 0 122.841 96.466\" version=\"1.1\">\n<defs>\n<g>\n<symbol overflow=\"visible\" id=\"glyph-1614181208037781-0-0\">\n<path style=\"stroke:none;\" d=\"\"/>\n</symbol>\n<symbol overflow=\"visible\" id=\"glyph-1614181208037781-0-1\">\n<path style=\"stroke:none;\" d=\"M 6.484375 -2.6875 C 6.484375 -4.265625 5.265625 -5.5 3.84375 -5.5 C 2.875 -5.5 2.34375 -4.921875 2.140625 -4.6875 L 2.140625 -8.640625 L 0.34375 -8.5 L 0.34375 -8.125 C 1.21875 -8.125 1.3125 -8.03125 1.3125 -7.421875 L 1.3125 0 L 1.625 0 L 2.078125 -0.765625 C 2.265625 -0.484375 2.796875 0.140625 3.71875 0.140625 C 5.1875 0.140625 6.484375 -1.078125 6.484375 -2.6875 Z M 5.453125 -2.703125 C 5.453125 -2.234375 5.421875 -1.5 5.0625 -0.9375 C 4.8125 -0.546875 4.328125 -0.140625 3.65625 -0.140625 C 3.09375 -0.140625 2.65625 -0.4375 2.359375 -0.890625 C 2.171875 -1.15625 2.171875 -1.203125 2.171875 -1.421875 L 2.171875 -3.984375 C 2.171875 -4.21875 2.171875 -4.234375 2.3125 -4.4375 C 2.796875 -5.125 3.484375 -5.234375 3.78125 -5.234375 C 4.34375 -5.234375 4.796875 -4.90625 5.09375 -4.4375 C 5.421875 -3.921875 5.453125 -3.21875 5.453125 -2.703125 Z M 5.453125 -2.703125 \"/>\n</symbol>\n<symbol overflow=\"visible\" id=\"glyph-1614181208037781-0-2\">\n<path style=\"stroke:none;\" d=\"M 6.015625 -1.109375 L 6.015625 -1.8125 L 5.703125 -1.8125 L 5.703125 -1.109375 C 5.703125 -0.390625 5.390625 -0.3125 5.25 -0.3125 C 4.84375 -0.3125 4.796875 -0.875 4.796875 -0.9375 L 4.796875 -3.421875 C 4.796875 -3.953125 4.796875 -4.4375 4.34375 -4.890625 C 3.859375 -5.375 3.234375 -5.578125 2.640625 -5.578125 C 1.625 -5.578125 0.765625 -5 0.765625 -4.171875 C 0.765625 -3.796875 1.015625 -3.59375 1.328125 -3.59375 C 1.6875 -3.59375 1.90625 -3.828125 1.90625 -4.15625 C 1.90625 -4.3125 1.84375 -4.71875 1.265625 -4.734375 C 1.609375 -5.171875 2.21875 -5.3125 2.609375 -5.3125 C 3.21875 -5.3125 3.9375 -4.8125 3.9375 -3.71875 L 3.9375 -3.25 C 3.296875 -3.21875 2.421875 -3.171875 1.640625 -2.796875 C 0.703125 -2.375 0.40625 -1.734375 0.40625 -1.1875 C 0.40625 -0.171875 1.609375 0.140625 2.390625 0.140625 C 3.21875 0.140625 3.78125 -0.359375 4.015625 -0.953125 C 4.078125 -0.453125 4.40625 0.078125 5 0.078125 C 5.25 0.078125 6.015625 -0.09375 6.015625 -1.109375 Z M 3.9375 -1.75 C 3.9375 -0.5625 3.03125 -0.140625 2.484375 -0.140625 C 1.875 -0.140625 1.359375 -0.578125 1.359375 -1.203125 C 1.359375 -1.875 1.875 -2.90625 3.9375 -2.984375 Z M 3.9375 -1.75 \"/>\n</symbol>\n<symbol overflow=\"visible\" id=\"glyph-1614181208037781-0-3\">\n<path style=\"stroke:none;\" d=\"M 4.140625 -1.546875 L 4.140625 -2.25 L 3.828125 -2.25 L 3.828125 -1.5625 C 3.828125 -0.640625 3.453125 -0.171875 2.984375 -0.171875 C 2.15625 -0.171875 2.15625 -1.3125 2.15625 -1.515625 L 2.15625 -4.984375 L 3.9375 -4.984375 L 3.9375 -5.375 L 2.15625 -5.375 L 2.15625 -7.65625 L 1.84375 -7.65625 C 1.828125 -6.640625 1.453125 -5.3125 0.234375 -5.25 L 0.234375 -4.984375 L 1.296875 -4.984375 L 1.296875 -1.546875 C 1.296875 -0.015625 2.453125 0.140625 2.90625 0.140625 C 3.78125 0.140625 4.140625 -0.75 4.140625 -1.546875 Z M 4.140625 -1.546875 \"/>\n</symbol>\n<symbol overflow=\"visible\" id=\"glyph-1614181208037781-0-4\">\n<path style=\"stroke:none;\" d=\"M 5.171875 -1.484375 C 5.171875 -1.609375 5.0625 -1.625 5 -1.625 C 4.890625 -1.625 4.875 -1.5625 4.84375 -1.453125 C 4.40625 -0.171875 3.28125 -0.171875 3.15625 -0.171875 C 2.546875 -0.171875 2.046875 -0.546875 1.75 -1.015625 C 1.375 -1.609375 1.375 -2.421875 1.375 -2.875 L 4.859375 -2.875 C 5.125 -2.875 5.171875 -2.875 5.171875 -3.140625 C 5.171875 -4.375 4.5 -5.578125 2.9375 -5.578125 C 1.5 -5.578125 0.34375 -4.296875 0.34375 -2.734375 C 0.34375 -1.078125 1.65625 0.140625 3.09375 0.140625 C 4.609375 0.140625 5.171875 -1.25 5.171875 -1.484375 Z M 4.34375 -3.140625 L 1.390625 -3.140625 C 1.46875 -5 2.515625 -5.3125 2.9375 -5.3125 C 4.21875 -5.3125 4.34375 -3.625 4.34375 -3.140625 Z M 4.34375 -3.140625 \"/>\n</symbol>\n<symbol overflow=\"visible\" id=\"glyph-1614181208037781-0-5\">\n<path style=\"stroke:none;\" d=\"M 4.53125 -4.75 C 4.53125 -5.140625 4.140625 -5.5 3.609375 -5.5 C 2.703125 -5.5 2.25 -4.671875 2.078125 -4.140625 L 2.078125 -5.5 L 0.34375 -5.375 L 0.34375 -4.984375 C 1.21875 -4.984375 1.3125 -4.890625 1.3125 -4.28125 L 1.3125 -0.953125 C 1.3125 -0.390625 1.1875 -0.390625 0.34375 -0.390625 L 0.34375 0 L 1.765625 -0.03125 C 2.265625 -0.03125 2.859375 -0.03125 3.34375 0 L 3.34375 -0.390625 L 3.09375 -0.390625 C 2.171875 -0.390625 2.140625 -0.515625 2.140625 -0.96875 L 2.140625 -2.890625 C 2.140625 -4.125 2.671875 -5.234375 3.609375 -5.234375 C 3.703125 -5.234375 3.71875 -5.234375 3.75 -5.21875 C 3.71875 -5.203125 3.46875 -5.0625 3.46875 -4.734375 C 3.46875 -4.390625 3.71875 -4.203125 4 -4.203125 C 4.21875 -4.203125 4.53125 -4.34375 4.53125 -4.75 Z M 4.53125 -4.75 \"/>\n</symbol>\n<symbol overflow=\"visible\" id=\"glyph-1614181208037781-0-6\">\n<path style=\"stroke:none;\" d=\"M 6.328125 -4.984375 L 6.328125 -5.375 C 6.046875 -5.34375 5.671875 -5.328125 5.390625 -5.328125 L 4.3125 -5.375 L 4.3125 -4.984375 C 4.6875 -4.96875 4.890625 -4.75 4.890625 -4.453125 C 4.890625 -4.328125 4.875 -4.296875 4.8125 -4.140625 L 3.5625 -1.078125 L 2.171875 -4.4375 C 2.125 -4.5625 2.109375 -4.609375 2.109375 -4.65625 C 2.109375 -4.984375 2.5625 -4.984375 2.796875 -4.984375 L 2.796875 -5.375 L 1.4375 -5.328125 C 1.109375 -5.328125 0.609375 -5.34375 0.234375 -5.375 L 0.234375 -4.984375 C 0.828125 -4.984375 1.078125 -4.984375 1.25 -4.546875 L 3.109375 0 L 2.796875 0.734375 C 2.53125 1.421875 2.171875 2.28125 1.375 2.28125 C 1.3125 2.28125 1.03125 2.28125 0.796875 2.0625 C 1.1875 2 1.28125 1.734375 1.28125 1.53125 C 1.28125 1.203125 1.046875 1.015625 0.765625 1.015625 C 0.515625 1.015625 0.234375 1.171875 0.234375 1.546875 C 0.234375 2.109375 0.765625 2.546875 1.375 2.546875 C 2.171875 2.546875 2.671875 1.84375 2.96875 1.140625 L 5.171875 -4.1875 C 5.484375 -4.96875 6.125 -4.984375 6.328125 -4.984375 Z M 6.328125 -4.984375 \"/>\n</symbol>\n<symbol overflow=\"visible\" id=\"glyph-1614181208037781-0-7\">\n<path style=\"stroke:none;\" d=\"M 4.453125 -7.90625 C 4.453125 -8.375 3.984375 -8.78125 3.328125 -8.78125 C 2.453125 -8.78125 1.390625 -8.125 1.390625 -6.796875 L 1.390625 -5.375 L 0.40625 -5.375 L 0.40625 -4.984375 L 1.390625 -4.984375 L 1.390625 -0.953125 C 1.390625 -0.390625 1.25 -0.390625 0.421875 -0.390625 L 0.421875 0 L 1.84375 -0.03125 C 2.34375 -0.03125 2.921875 -0.03125 3.421875 0 L 3.421875 -0.390625 L 3.15625 -0.390625 C 2.234375 -0.390625 2.21875 -0.515625 2.21875 -0.96875 L 2.21875 -4.984375 L 3.640625 -4.984375 L 3.640625 -5.375 L 2.171875 -5.375 L 2.171875 -6.8125 C 2.171875 -7.90625 2.78125 -8.5 3.328125 -8.5 C 3.359375 -8.5 3.546875 -8.5 3.734375 -8.421875 C 3.59375 -8.375 3.359375 -8.203125 3.359375 -7.890625 C 3.359375 -7.609375 3.5625 -7.359375 3.890625 -7.359375 C 4.265625 -7.359375 4.453125 -7.609375 4.453125 -7.90625 Z M 4.453125 -7.90625 \"/>\n</symbol>\n<symbol overflow=\"visible\" id=\"glyph-1614181208037781-0-8\">\n<path style=\"stroke:none;\" d=\"M 6.65625 0 L 6.65625 -0.390625 C 5.796875 -0.390625 5.6875 -0.46875 5.6875 -1.078125 L 5.6875 -5.5 L 3.859375 -5.375 L 3.859375 -4.984375 C 4.734375 -4.984375 4.828125 -4.890625 4.828125 -4.28125 L 4.828125 -2.0625 C 4.828125 -0.984375 4.234375 -0.140625 3.328125 -0.140625 C 2.28125 -0.140625 2.234375 -0.71875 2.234375 -1.375 L 2.234375 -5.5 L 0.40625 -5.375 L 0.40625 -4.984375 C 1.375 -4.984375 1.375 -4.9375 1.375 -3.828125 L 1.375 -1.96875 C 1.375 -1 1.375 0.140625 3.265625 0.140625 C 3.953125 0.140625 4.515625 -0.21875 4.875 -0.984375 L 4.875 0.140625 Z M 6.65625 0 \"/>\n</symbol>\n<symbol overflow=\"visible\" id=\"glyph-1614181208037781-0-9\">\n<path style=\"stroke:none;\" d=\"M 3.171875 0 L 3.171875 -0.390625 C 2.34375 -0.390625 2.203125 -0.390625 2.203125 -0.953125 L 2.203125 -8.640625 L 0.40625 -8.5 L 0.40625 -8.125 C 1.28125 -8.125 1.375 -8.03125 1.375 -7.421875 L 1.375 -0.953125 C 1.375 -0.390625 1.25 -0.390625 0.40625 -0.390625 L 0.40625 0 L 1.796875 -0.03125 Z M 3.171875 0 \"/>\n</symbol>\n<symbol overflow=\"visible\" id=\"glyph-1614181208037781-0-10\">\n<path style=\"stroke:none;\" d=\"M 6.046875 -5.03125 C 6.046875 -5.25 5.890625 -5.640625 5.40625 -5.640625 C 5.15625 -5.640625 4.609375 -5.5625 4.078125 -5.0625 C 3.5625 -5.46875 3.03125 -5.5 2.765625 -5.5 C 1.609375 -5.5 0.75 -4.640625 0.75 -3.6875 C 0.75 -3.140625 1.015625 -2.671875 1.328125 -2.40625 C 1.171875 -2.21875 0.953125 -1.8125 0.953125 -1.375 C 0.953125 -0.984375 1.109375 -0.515625 1.5 -0.265625 C 0.75 -0.046875 0.34375 0.484375 0.34375 0.984375 C 0.34375 1.875 1.578125 2.5625 3.09375 2.5625 C 4.5625 2.5625 5.859375 1.9375 5.859375 0.953125 C 5.859375 0.515625 5.6875 -0.109375 5.0625 -0.453125 C 4.390625 -0.8125 3.671875 -0.8125 2.90625 -0.8125 C 2.609375 -0.8125 2.0625 -0.8125 1.984375 -0.828125 C 1.578125 -0.875 1.3125 -1.25 1.3125 -1.65625 C 1.3125 -1.703125 1.3125 -2 1.53125 -2.234375 C 2.015625 -1.890625 2.53125 -1.859375 2.765625 -1.859375 C 3.921875 -1.859375 4.78125 -2.71875 4.78125 -3.671875 C 4.78125 -4.140625 4.578125 -4.59375 4.265625 -4.875 C 4.71875 -5.3125 5.171875 -5.375 5.390625 -5.375 C 5.390625 -5.375 5.484375 -5.375 5.515625 -5.359375 C 5.375 -5.3125 5.3125 -5.171875 5.3125 -5.015625 C 5.3125 -4.8125 5.484375 -4.65625 5.671875 -4.65625 C 5.796875 -4.65625 6.046875 -4.75 6.046875 -5.03125 Z M 3.84375 -3.6875 C 3.84375 -3.34375 3.828125 -2.953125 3.65625 -2.640625 C 3.546875 -2.484375 3.265625 -2.140625 2.765625 -2.140625 C 1.6875 -2.140625 1.6875 -3.390625 1.6875 -3.671875 C 1.6875 -4.015625 1.6875 -4.40625 1.875 -4.71875 C 1.984375 -4.875 2.265625 -5.21875 2.765625 -5.21875 C 3.84375 -5.21875 3.84375 -3.96875 3.84375 -3.6875 Z M 5.21875 0.984375 C 5.21875 1.65625 4.328125 2.28125 3.109375 2.28125 C 1.859375 2.28125 1 1.640625 1 0.984375 C 1 0.40625 1.46875 -0.046875 2.015625 -0.09375 L 2.75 -0.09375 C 3.828125 -0.09375 5.21875 -0.09375 5.21875 0.984375 Z M 5.21875 0.984375 \"/>\n</symbol>\n<symbol overflow=\"visible\" id=\"glyph-1614181208037781-0-11\">\n<path style=\"stroke:none;\" d=\"M 6.65625 0 L 6.65625 -0.390625 C 6.015625 -0.390625 5.703125 -0.390625 5.6875 -0.765625 L 5.6875 -3.140625 C 5.6875 -4.203125 5.6875 -4.59375 5.3125 -5.046875 C 5.125 -5.25 4.71875 -5.5 4 -5.5 C 3.09375 -5.5 2.5 -4.96875 2.15625 -4.203125 L 2.15625 -5.5 L 0.40625 -5.375 L 0.40625 -4.984375 C 1.265625 -4.984375 1.375 -4.890625 1.375 -4.28125 L 1.375 -0.953125 C 1.375 -0.390625 1.234375 -0.390625 0.40625 -0.390625 L 0.40625 0 L 1.8125 -0.03125 L 3.203125 0 L 3.203125 -0.390625 C 2.359375 -0.390625 2.234375 -0.390625 2.234375 -0.953125 L 2.234375 -3.234375 C 2.234375 -4.53125 3.109375 -5.234375 3.90625 -5.234375 C 4.6875 -5.234375 4.828125 -4.5625 4.828125 -3.84375 L 4.828125 -0.953125 C 4.828125 -0.390625 4.6875 -0.390625 3.859375 -0.390625 L 3.859375 0 L 5.265625 -0.03125 Z M 6.65625 0 \"/>\n</symbol>\n<symbol overflow=\"visible\" id=\"glyph-1614181208037781-0-12\">\n<path style=\"stroke:none;\" d=\"M 4.484375 -1.59375 C 4.484375 -2.25 4.109375 -2.625 3.953125 -2.78125 C 3.546875 -3.171875 3.0625 -3.28125 2.546875 -3.375 C 1.84375 -3.515625 1.015625 -3.671875 1.015625 -4.390625 C 1.015625 -4.828125 1.328125 -5.34375 2.40625 -5.34375 C 3.765625 -5.34375 3.828125 -4.21875 3.859375 -3.828125 C 3.875 -3.71875 4.015625 -3.71875 4.015625 -3.71875 C 4.171875 -3.71875 4.171875 -3.78125 4.171875 -4.015625 L 4.171875 -5.28125 C 4.171875 -5.484375 4.171875 -5.578125 4.03125 -5.578125 C 3.96875 -5.578125 3.953125 -5.578125 3.78125 -5.421875 C 3.75 -5.375 3.625 -5.265625 3.578125 -5.234375 C 3.09375 -5.578125 2.59375 -5.578125 2.40625 -5.578125 C 0.890625 -5.578125 0.40625 -4.75 0.40625 -4.046875 C 0.40625 -3.609375 0.609375 -3.265625 0.953125 -2.984375 C 1.34375 -2.671875 1.6875 -2.59375 2.59375 -2.421875 C 2.859375 -2.359375 3.890625 -2.171875 3.890625 -1.265625 C 3.890625 -0.640625 3.453125 -0.140625 2.484375 -0.140625 C 1.4375 -0.140625 0.984375 -0.84375 0.75 -1.90625 C 0.703125 -2.0625 0.703125 -2.109375 0.578125 -2.109375 C 0.40625 -2.109375 0.40625 -2.03125 0.40625 -1.8125 L 0.40625 -0.15625 C 0.40625 0.046875 0.40625 0.140625 0.546875 0.140625 C 0.609375 0.140625 0.625 0.125 0.859375 -0.109375 C 0.890625 -0.140625 0.890625 -0.15625 1.109375 -0.40625 C 1.65625 0.125 2.21875 0.140625 2.484375 0.140625 C 3.90625 0.140625 4.484375 -0.703125 4.484375 -1.59375 Z M 4.484375 -1.59375 \"/>\n</symbol>\n<symbol overflow=\"visible\" id=\"glyph-1614181208037781-0-13\">\n<path style=\"stroke:none;\" d=\"M 5.859375 -2.671875 C 5.859375 -4.265625 4.625 -5.578125 3.109375 -5.578125 C 1.5625 -5.578125 0.34375 -4.21875 0.34375 -2.671875 C 0.34375 -1.0625 1.640625 0.140625 3.09375 0.140625 C 4.609375 0.140625 5.859375 -1.078125 5.859375 -2.671875 Z M 4.828125 -2.765625 C 4.828125 -2.3125 4.828125 -1.640625 4.5625 -1.09375 C 4.28125 -0.53125 3.734375 -0.171875 3.109375 -0.171875 C 2.578125 -0.171875 2.03125 -0.4375 1.6875 -1.015625 C 1.375 -1.5625 1.375 -2.3125 1.375 -2.765625 C 1.375 -3.25 1.375 -3.921875 1.6875 -4.46875 C 2.015625 -5.046875 2.609375 -5.3125 3.09375 -5.3125 C 3.65625 -5.3125 4.1875 -5.03125 4.515625 -4.5 C 4.828125 -3.953125 4.828125 -3.234375 4.828125 -2.765625 Z M 4.828125 -2.765625 \"/>\n</symbol>\n<symbol overflow=\"visible\" id=\"glyph-1614181208037781-0-14\">\n<path style=\"stroke:none;\" d=\"M 6.328125 -4.984375 L 6.328125 -5.375 C 6.046875 -5.34375 5.671875 -5.328125 5.390625 -5.328125 L 4.3125 -5.375 L 4.3125 -4.984375 C 4.765625 -4.96875 4.90625 -4.6875 4.90625 -4.453125 C 4.90625 -4.328125 4.875 -4.28125 4.828125 -4.140625 L 3.5625 -0.96875 L 2.171875 -4.453125 C 2.09375 -4.609375 2.09375 -4.65625 2.09375 -4.65625 C 2.09375 -4.984375 2.578125 -4.984375 2.796875 -4.984375 L 2.796875 -5.375 L 1.4375 -5.328125 C 1.109375 -5.328125 0.609375 -5.34375 0.234375 -5.375 L 0.234375 -4.984375 C 1.015625 -4.984375 1.078125 -4.90625 1.234375 -4.515625 L 3.03125 -0.09375 C 3.09375 0.078125 3.125 0.140625 3.28125 0.140625 C 3.453125 0.140625 3.5 0.03125 3.546875 -0.09375 L 5.1875 -4.140625 C 5.296875 -4.4375 5.5 -4.96875 6.328125 -4.984375 Z M 6.328125 -4.984375 \"/>\n</symbol>\n</g>\n<clipPath id=\"clip-1614181208037781-1\">\n  <path d=\"M 77 0 L 122.839844 0 L 122.839844 37 L 77 37 Z M 77 0 \"/>\n</clipPath>\n<clipPath id=\"clip-1614181208037781-2\">\n  <path d=\"M 0 59 L 76 59 L 76 96.464844 L 0 96.464844 Z M 0 59 \"/>\n</clipPath>\n<clipPath id=\"clip-1614181208037781-3\">\n  <path d=\"M 72 59 L 122.839844 59 L 122.839844 96.464844 L 72 96.464844 Z M 72 59 \"/>\n</clipPath>\n</defs>\n<g id=\"surface1\">\n<path style=\"fill:none;stroke-width:0.79701;stroke-linecap:butt;stroke-linejoin:miter;stroke:rgb(0%,0%,0%);stroke-opacity:1;stroke-miterlimit:10;\" d=\"M 53.827625 118.700563 L 17.038562 118.700563 C 13.909656 118.700563 11.370594 116.165406 11.370594 113.032594 L 11.370594 99.56775 C 11.370594 96.438844 13.909656 93.899781 17.038562 93.899781 L 53.827625 93.899781 C 56.960437 93.899781 59.495594 96.438844 59.495594 99.56775 L 59.495594 113.032594 C 59.495594 116.165406 56.960437 118.700563 53.827625 118.700563 Z M 53.827625 118.700563 \" transform=\"matrix(1,0,0,-1,-3.312,119.099)\"/>\n<g style=\"fill:rgb(0%,0%,0%);fill-opacity:1;\">\n  <use xlink:href=\"#glyph-1614181208037781-0-1\" x=\"12.208\" y=\"15.845\"/>\n  <use xlink:href=\"#glyph-1614181208037781-0-2\" x=\"19.132035\" y=\"15.845\"/>\n  <use xlink:href=\"#glyph-1614181208037781-0-3\" x=\"25.358685\" y=\"15.845\"/>\n  <use xlink:href=\"#glyph-1614181208037781-0-3\" x=\"30.203019\" y=\"15.845\"/>\n  <use xlink:href=\"#glyph-1614181208037781-0-4\" x=\"35.047352\" y=\"15.845\"/>\n  <use xlink:href=\"#glyph-1614181208037781-0-5\" x=\"40.576617\" y=\"15.845\"/>\n  <use xlink:href=\"#glyph-1614181208037781-0-6\" x=\"45.458311\" y=\"15.845\"/>\n</g>\n<g clip-path=\"url(#clip-1614181208037781-1)\" clip-rule=\"nonzero\">\n<path style=\"fill:none;stroke-width:0.79701;stroke-linecap:butt;stroke-linejoin:miter;stroke:rgb(0%,0%,0%);stroke-opacity:1;stroke-miterlimit:10;\" d=\"M 114.644031 118.700563 L 97.956531 118.700563 C 94.823719 118.700563 92.288562 116.165406 92.288562 113.032594 L 92.288562 99.56775 C 92.288562 96.438844 94.823719 93.899781 97.956531 93.899781 L 114.644031 93.899781 C 117.776844 93.899781 120.315906 96.438844 120.315906 99.56775 L 120.315906 113.032594 C 120.315906 116.165406 117.776844 118.700563 114.644031 118.700563 Z M 114.644031 118.700563 \" transform=\"matrix(1,0,0,-1,-3.312,119.099)\"/>\n</g>\n<g style=\"fill:rgb(0%,0%,0%);fill-opacity:1;\">\n  <use xlink:href=\"#glyph-1614181208037781-0-7\" x=\"93.124\" y=\"17.121\"/>\n  <use xlink:href=\"#glyph-1614181208037781-0-8\" x=\"96.93471\" y=\"17.121\"/>\n  <use xlink:href=\"#glyph-1614181208037781-0-4\" x=\"103.858745\" y=\"17.121\"/>\n  <use xlink:href=\"#glyph-1614181208037781-0-9\" x=\"109.38801\" y=\"17.121\"/>\n</g>\n<path style=\"fill:none;stroke-width:0.79701;stroke-linecap:butt;stroke-linejoin:miter;stroke:rgb(0%,0%,0%);stroke-opacity:1;stroke-miterlimit:10;\" d=\"M 84.913562 83.266969 L 56.819812 83.266969 C 53.687 83.266969 51.147937 80.731813 51.147937 77.599 L 51.147937 64.134156 C 51.147937 61.00525 53.687 58.466188 56.819812 58.466188 L 84.913562 58.466188 C 88.046375 58.466188 90.585437 61.00525 90.585437 64.134156 L 90.585437 77.599 C 90.585437 80.731813 88.046375 83.266969 84.913562 83.266969 Z M 84.913562 83.266969 \" transform=\"matrix(1,0,0,-1,-3.312,119.099)\"/>\n<g style=\"fill:rgb(0%,0%,0%);fill-opacity:1;\">\n  <use xlink:href=\"#glyph-1614181208037781-0-10\" x=\"51.987\" y=\"49.771\"/>\n  <use xlink:href=\"#glyph-1614181208037781-0-2\" x=\"58.21365\" y=\"49.771\"/>\n  <use xlink:href=\"#glyph-1614181208037781-0-8\" x=\"64.4403\" y=\"49.771\"/>\n  <use xlink:href=\"#glyph-1614181208037781-0-10\" x=\"71.364335\" y=\"49.771\"/>\n  <use xlink:href=\"#glyph-1614181208037781-0-4\" x=\"77.590985\" y=\"49.771\"/>\n</g>\n<g clip-path=\"url(#clip-1614181208037781-2)\" clip-rule=\"nonzero\">\n<path style=\"fill:none;stroke-width:0.79701;stroke-linecap:butt;stroke-linejoin:miter;stroke:rgb(0%,0%,0%);stroke-opacity:1;stroke-miterlimit:10;\" d=\"M 61.487781 47.833375 L 9.378406 47.833375 C 6.2495 47.833375 3.710437 45.298219 3.710437 42.165406 L 3.710437 28.700563 C 3.710437 25.571656 6.2495 23.032594 9.378406 23.032594 L 61.487781 23.032594 C 64.616687 23.032594 67.15575 25.571656 67.15575 28.700563 L 67.15575 42.165406 C 67.15575 45.298219 64.616687 47.833375 61.487781 47.833375 Z M 61.487781 47.833375 \" transform=\"matrix(1,0,0,-1,-3.312,119.099)\"/>\n</g>\n<g style=\"fill:rgb(0%,0%,0%);fill-opacity:1;\">\n  <use xlink:href=\"#glyph-1614181208037781-0-3\" x=\"4.549\" y=\"87.427\"/>\n  <use xlink:href=\"#glyph-1614181208037781-0-8\" x=\"9.393334\" y=\"87.427\"/>\n  <use xlink:href=\"#glyph-1614181208037781-0-5\" x=\"16.317369\" y=\"87.427\"/>\n  <use xlink:href=\"#glyph-1614181208037781-0-11\" x=\"21.199062\" y=\"87.427\"/>\n  <use xlink:href=\"#glyph-1614181208037781-0-12\" x=\"28.123097\" y=\"87.427\"/>\n</g>\n<g style=\"fill:rgb(0%,0%,0%);fill-opacity:1;\">\n  <use xlink:href=\"#glyph-1614181208037781-0-13\" x=\"37.176646\" y=\"87.427\"/>\n</g>\n<g style=\"fill:rgb(0%,0%,0%);fill-opacity:1;\">\n  <use xlink:href=\"#glyph-1614181208037781-0-14\" x=\"43.054604\" y=\"87.427\"/>\n</g>\n<g style=\"fill:rgb(0%,0%,0%);fill-opacity:1;\">\n  <use xlink:href=\"#glyph-1614181208037781-0-4\" x=\"49.281254\" y=\"87.427\"/>\n  <use xlink:href=\"#glyph-1614181208037781-0-5\" x=\"54.810519\" y=\"87.427\"/>\n</g>\n<g clip-path=\"url(#clip-1614181208037781-3)\" clip-rule=\"nonzero\">\n<path style=\"fill:none;stroke-width:0.79701;stroke-linecap:butt;stroke-linejoin:miter;stroke:rgb(0%,0%,0%);stroke-opacity:1;stroke-miterlimit:10;\" d=\"M 120.085437 47.833375 L 92.515125 47.833375 C 89.382312 47.833375 86.84325 45.298219 86.84325 42.165406 L 86.84325 28.700563 C 86.84325 25.571656 89.382312 23.032594 92.515125 23.032594 L 120.085437 23.032594 C 123.21825 23.032594 125.757312 25.571656 125.757312 28.700563 L 125.757312 42.165406 C 125.757312 45.298219 123.21825 47.833375 120.085437 47.833375 Z M 120.085437 47.833375 \" transform=\"matrix(1,0,0,-1,-3.312,119.099)\"/>\n</g>\n<g style=\"fill:rgb(0%,0%,0%);fill-opacity:1;\">\n  <use xlink:href=\"#glyph-1614181208037781-0-12\" x=\"87.682\" y=\"87.427\"/>\n  <use xlink:href=\"#glyph-1614181208037781-0-3\" x=\"92.5886\" y=\"87.427\"/>\n  <use xlink:href=\"#glyph-1614181208037781-0-2\" x=\"97.432934\" y=\"87.427\"/>\n  <use xlink:href=\"#glyph-1614181208037781-0-5\" x=\"103.659584\" y=\"87.427\"/>\n  <use xlink:href=\"#glyph-1614181208037781-0-3\" x=\"108.541278\" y=\"87.427\"/>\n  <use xlink:href=\"#glyph-1614181208037781-0-12\" x=\"113.385611\" y=\"87.427\"/>\n</g>\n<path style=\"fill:none;stroke-width:0.79701;stroke-linecap:butt;stroke-linejoin:miter;stroke:rgb(0%,0%,0%);stroke-opacity:1;stroke-miterlimit:10;\" d=\"M 35.444812 93.423219 L 35.444812 53.00525 \" transform=\"matrix(1,0,0,-1,-3.312,119.099)\"/>\n<path style=\" stroke:none;fill-rule:nonzero;fill:rgb(0%,0%,0%);fill-opacity:1;\" d=\"M 32.132812 70.753906 C 32.390625 69.371094 33.167969 67.128906 34.074219 65.574219 L 30.191406 65.574219 C 31.097656 67.128906 31.875 69.371094 32.132812 70.753906 \"/>\n<path style=\"fill:none;stroke-width:0.79701;stroke-linecap:butt;stroke-linejoin:miter;stroke:rgb(0%,0%,0%);stroke-opacity:1;stroke-miterlimit:10;\" d=\"M 48.3745 93.423219 L 54.702625 87.087281 \" transform=\"matrix(1,0,0,-1,-3.312,119.099)\"/>\n<path style=\" stroke:none;fill-rule:nonzero;fill:rgb(0%,0%,0%);fill-opacity:1;\" d=\"M 54.683594 35.3125 C 53.890625 34.152344 52.855469 32.015625 52.398438 30.273438 L 49.648438 33.019531 C 51.386719 33.480469 53.523438 34.519531 54.683594 35.3125 \"/>\n<path style=\"fill:none;stroke-width:0.79701;stroke-linecap:butt;stroke-linejoin:miter;stroke:rgb(0%,0%,0%);stroke-opacity:1;stroke-miterlimit:10;\" d=\"M 93.425281 93.423219 L 87.085437 87.083375 \" transform=\"matrix(1,0,0,-1,-3.312,119.099)\"/>\n<path style=\" stroke:none;fill-rule:nonzero;fill:rgb(0%,0%,0%);fill-opacity:1;\" d=\"M 80.472656 35.3125 C 81.632812 34.519531 83.773438 33.480469 85.511719 33.023438 L 82.765625 30.277344 C 82.304688 32.015625 81.269531 34.152344 80.472656 35.3125 \"/>\n<path style=\"fill:none;stroke-width:0.79701;stroke-linecap:butt;stroke-linejoin:miter;stroke:rgb(0%,0%,0%);stroke-opacity:1;stroke-miterlimit:10;\" d=\"M 106.331531 93.423219 L 106.331531 53.00525 \" transform=\"matrix(1,0,0,-1,-3.312,119.099)\"/>\n<path style=\" stroke:none;fill-rule:nonzero;fill:rgb(0%,0%,0%);fill-opacity:1;\" d=\"M 103.019531 70.753906 C 103.277344 69.371094 104.054688 67.128906 104.960938 65.574219 L 101.074219 65.574219 C 101.984375 67.128906 102.757812 69.371094 103.019531 70.753906 \"/>\n<path style=\"fill:none;stroke-width:0.79701;stroke-linecap:butt;stroke-linejoin:miter;stroke:rgb(0%,0%,0%);stroke-opacity:1;stroke-miterlimit:10;\" d=\"M 67.671375 35.450563 L 81.702625 35.446656 \" transform=\"matrix(1,0,0,-1,-3.312,119.099)\"/>\n<path style=\" stroke:none;fill-rule:nonzero;fill:rgb(0%,0%,0%);fill-opacity:1;\" d=\"M 83.054688 83.65625 C 81.671875 83.394531 79.429688 82.617188 77.875 81.710938 L 77.875 85.597656 C 79.429688 84.691406 81.671875 83.914062 83.054688 83.65625 \"/>\n</g>\n</svg>\n\n",
      "text/plain": [
       "TikzPicture(L\"$\\tikzstyle{every node} = [draw, minimum size=7mm, rounded corners=2mm]\n",
       "\\tikzset{>=latex}\n",
       "\\foreach \\n/\\x/\\y/\\label in {b/1/3/battery, f/3/3/fuel, g/2/2/gauge, t/1/1/turns over, s/3/1/starts}\n",
       "    \\node (\\n) at (\\x,\\y) {\\label};\n",
       "\\foreach \\from/\\to in {b/t, b/g, f/g, f/s, t/s}\n",
       "    \\draw [->] (\\from) -- (\\to);\n",
       "$\", \"scale=1.25, thick, transform shape\", \"\", \"tikzpicture\", \"\", \"\", true, true)"
      ]
     },
     "execution_count": 8,
     "metadata": {},
     "output_type": "execute_result"
    }
   ],
   "source": [
    "using TikzPictures, LaTeXStrings\n",
    "\n",
    "# draw the nodes, then make the links\n",
    "g = TikzPicture(L\"\"\"\n",
    "\\tikzstyle{every node} = [draw, minimum size=7mm, rounded corners=2mm]\n",
    "\\tikzset{>=latex}\n",
    "\\foreach \\n/\\x/\\y/\\label in {b/1/3/battery, f/3/3/fuel, g/2/2/gauge, t/1/1/turns over, s/3/1/starts}\n",
    "    \\node (\\n) at (\\x,\\y) {\\label};\n",
    "\\foreach \\from/\\to in {b/t, b/g, f/g, f/s, t/s}\n",
    "    \\draw [->] (\\from) -- (\\to);\n",
    "\"\"\", options=\"scale=1.25, thick, transform shape\")"
   ]
  },
  {
   "cell_type": "markdown",
   "metadata": {
    "Collapsed": "false"
   },
   "source": [
    "5.1 (10 pts) Calculate the $p(f=\\textsf{empty} | s=\\textsf{no})$, the probability of the fuel tank being empty given that the car does not start.  Do this \"by hand\", i.e in manner similar to the **Inference** section in Barber 3.1.1.  Use the probabilities given in the exercise.  Show your work.\n",
    "$$ p(f=\\text{empty}|s=\\text{no})=\\frac{p(s=\\text{no}|f=\\text{empty})}{p(s=\\text{no})} = \\frac{\\sum_t\\sum_b p(s=\\text{no}, f=\\text{empty}, \\ t, b)}{\\sum_f\\sum_t\\sum_b p(s=\\text{no},f,t,b)}= \\frac{\\sum_t\\sum_b p(s=\\text{no} \\mid f=\\text{empty},t)p(f, t)p(b)}{\\sum_f\\sum_t\\sum_b p(s=\\text{no} \\mid f,t)p(f, t)p(b)}$$\n",
    "$$= \\frac{\\sum_t\\sum_b p(s=\\text{no} \\mid f=\\text{empty},t) \\ p(f)p(t \\mid b)p(b)}{\\sum_f\\sum_t\\sum_b p(s=\\text{no} \\mid f,t) \\ p(f)p(t \\mid b)p(b)}= \\frac{0.0461715}{0.101756} \\approx 0.4537$$\n",
    "\n",
    "5.2 (5 pts) Implement this network using a toolbox for probabilistic models (e.g. `pgmpy` or `BayesNets.jl`). Use this to verify that your derivation and calculations are correct for the previous problem."
   ]
  },
  {
   "cell_type": "code",
   "execution_count": 23,
   "metadata": {},
   "outputs": [],
   "source": [
    "from pgmpy.models import BayesianNetwork as BN\n",
    "from pgmpy.factors.discrete import TabularCPD as CPD\n",
    "from pgmpy.inference import VariableElimination as VE\n",
    "\n",
    "# create the model in python\n",
    "model = BN([(\"battery\", \"gauge\"), (\"battery\", \"turns over\"), (\"turns over\", \"starts\"),\n",
    "    (\"fuel\", \"gauge\"), (\"fuel\", \"starts\")])\n",
    "states = {\"battery\": [\"good\", \"bad\"],\n",
    "          \"fuel\": [\"full\", \"empty\"],\n",
    "          \"gauge\": [\"full\", \"empty\"],\n",
    "          \"turns over\": [\"yes\", \"no\"],\n",
    "          \"starts\": [\"yes\", \"no\"]}\n",
    "\n",
    "# define the probabilities\n",
    "model.add_cpds(CPD(variable=\"battery\", variable_card=2, values=[[0.98], [0.02]], state_names={\"battery\":states[\"battery\"]}),\n",
    "               CPD(variable=\"fuel\", variable_card=2, values=[[0.95], [0.05]], state_names={\"fuel\":states[\"fuel\"]}),\n",
    "               CPD(variable=\"gauge\", variable_card=2, values=[[0.96, 0.03, 0.9, 0.01], [0.04, 0.97, 0.1, 0.99]], evidence=[\"battery\", \"fuel\"], evidence_card=[2, 2], state_names={\"gauge\":states[\"gauge\"], \"battery\":states[\"battery\"], \"fuel\":states[\"fuel\"]}),\n",
    "               CPD(variable=\"turns over\", variable_card=2, values=[[0.97, 0.02], [0.03, 0.98]], evidence=[\"battery\"], evidence_card=[2], state_names={\"turns over\":states[\"turns over\"], \"battery\":states[\"battery\"]}),\n",
    "               CPD(variable=\"starts\", variable_card=2, values=[[0.99, 0.08, 0.0, 0.01], [0.01, 0.92, 1.0, 0.99]], evidence=[\"turns over\", \"fuel\"], evidence_card=[2, 2], state_names={\"starts\":states[\"starts\"], \"turns over\":states[\"turns over\"], \"fuel\":states[\"fuel\"]}))\n",
    "\n",
    "# variable elimination\n",
    "bn_infer = VE(model)"
   ]
  },
  {
   "cell_type": "code",
   "execution_count": 24,
   "metadata": {},
   "outputs": [
    {
     "name": "stdout",
     "output_type": "stream",
     "text": [
      "+-------------+-------------+\n",
      "| fuel        |   phi(fuel) |\n",
      "+=============+=============+\n",
      "| fuel(full)  |      0.5463 |\n",
      "+-------------+-------------+\n",
      "| fuel(empty) |      0.4537 |\n",
      "+-------------+-------------+\n"
     ]
    }
   ],
   "source": [
    "print(bn_infer.query([\"fuel\"], evidence={\"starts\":\"no\"}))"
   ]
  },
  {
   "cell_type": "markdown",
   "metadata": {},
   "source": [
    "5.3 (10 pts) Suppose you have loaned this car to a friend. They call call you and announce, \"the car won't start\".  Illustrate your diagnostic and inference process by using the model to show how your beliefs change as you ask questions.  Your friend can only tell you the states of $t$ and $g$ (and you already know $s$).  Use two different scenarios, i.e. two differnt reasons why the car won't start.  For each scenario, your answer should discuss your choice of each question you pose to the network, and how it allows you to uncover the true cause the problem."
   ]
  },
  {
   "cell_type": "markdown",
   "metadata": {},
   "source": [
    "First example: no fuel, given car does not turn over: Given that \"turns over\" is \"no\" and that \"starts\" is \"no\", we can first query the probability of battery and fuel:"
   ]
  },
  {
   "cell_type": "code",
   "execution_count": 25,
   "metadata": {},
   "outputs": [
    {
     "name": "stdout",
     "output_type": "stream",
     "text": [
      "+-------------+-------------+\n",
      "| fuel        |   phi(fuel) |\n",
      "+=============+=============+\n",
      "| fuel(full)  |      0.9505 |\n",
      "+-------------+-------------+\n",
      "| fuel(empty) |      0.0495 |\n",
      "+-------------+-------------+\n",
      "+---------------+----------------+\n",
      "| battery       |   phi(battery) |\n",
      "+===============+================+\n",
      "| battery(good) |         0.6000 |\n",
      "+---------------+----------------+\n",
      "| battery(bad)  |         0.4000 |\n",
      "+---------------+----------------+\n"
     ]
    }
   ],
   "source": [
    "print(bn_infer.query([\"fuel\"], evidence={\"starts\":\"no\", \"turns over\":\"no\"}))\n",
    "print(bn_infer.query([\"battery\"], evidence={\"starts\":\"no\", \"turns over\":\"no\"}))"
   ]
  },
  {
   "cell_type": "markdown",
   "metadata": {},
   "source": [
    "Based on this information, we can be fairly positive that the problem is caused by the fuel tank. However, we can ask for additional information regarding the gauge to further solidify this"
   ]
  },
  {
   "cell_type": "code",
   "execution_count": 27,
   "metadata": {},
   "outputs": [
    {
     "name": "stdout",
     "output_type": "stream",
     "text": [
      "+-------------+-------------+\n",
      "| fuel        |   phi(fuel) |\n",
      "+=============+=============+\n",
      "| fuel(full)  |      0.9988 |\n",
      "+-------------+-------------+\n",
      "| fuel(empty) |      0.0012 |\n",
      "+-------------+-------------+\n",
      "+---------------+----------------+\n",
      "| battery       |   phi(battery) |\n",
      "+===============+================+\n",
      "| battery(good) |         0.6156 |\n",
      "+---------------+----------------+\n",
      "| battery(bad)  |         0.3844 |\n",
      "+---------------+----------------+\n"
     ]
    }
   ],
   "source": [
    "print(bn_infer.query([\"fuel\"], evidence={\"starts\":\"no\", \"turns over\":\"no\", \"gauge\": \"full\"}))\n",
    "print(bn_infer.query([\"battery\"], evidence={\"starts\":\"no\", \"turns over\":\"no\", \"gauge\": \"full\"}))"
   ]
  },
  {
   "cell_type": "markdown",
   "metadata": {},
   "source": [
    "Second Example: Bad battery given the gauge value first: Similarly, we can query on battery and fuel knowing that the gauge is empty"
   ]
  },
  {
   "cell_type": "code",
   "execution_count": 28,
   "metadata": {},
   "outputs": [
    {
     "name": "stdout",
     "output_type": "stream",
     "text": [
      "+-------------+-------------+\n",
      "| fuel        |   phi(fuel) |\n",
      "+=============+=============+\n",
      "| fuel(full)  |      0.0694 |\n",
      "+-------------+-------------+\n",
      "| fuel(empty) |      0.9306 |\n",
      "+-------------+-------------+\n",
      "+---------------+----------------+\n",
      "| battery       |   phi(battery) |\n",
      "+===============+================+\n",
      "| battery(good) |         0.9410 |\n",
      "+---------------+----------------+\n",
      "| battery(bad)  |         0.0590 |\n",
      "+---------------+----------------+\n"
     ]
    }
   ],
   "source": [
    "print(bn_infer.query([\"fuel\"], evidence={\"starts\":\"no\", \"gauge\":\"empty\"}))\n",
    "print(bn_infer.query([\"battery\"], evidence={\"starts\":\"no\", \"gauge\":\"empty\"}))"
   ]
  },
  {
   "cell_type": "markdown",
   "metadata": {},
   "source": [
    "Consider now, we ask our friend if the car turns over and we learn that the car does not turn over."
   ]
  },
  {
   "cell_type": "code",
   "execution_count": 29,
   "metadata": {},
   "outputs": [
    {
     "name": "stdout",
     "output_type": "stream",
     "text": [
      "+-------------+-------------+\n",
      "| fuel        |   phi(fuel) |\n",
      "+=============+=============+\n",
      "| fuel(full)  |      0.5567 |\n",
      "+-------------+-------------+\n",
      "| fuel(empty) |      0.4433 |\n",
      "+-------------+-------------+\n",
      "+---------------+----------------+\n",
      "| battery       |   phi(battery) |\n",
      "+===============+================+\n",
      "| battery(good) |         0.4726 |\n",
      "+---------------+----------------+\n",
      "| battery(bad)  |         0.5274 |\n",
      "+---------------+----------------+\n"
     ]
    }
   ],
   "source": [
    "print(bn_infer.query([\"fuel\"], evidence={\"starts\":\"no\", \"gauge\":\"empty\", \"turns over\":\"no\"}))\n",
    "print(bn_infer.query([\"battery\"], evidence={\"starts\":\"no\", \"gauge\":\"empty\", \"turns over\":\"no\"}))"
   ]
  },
  {
   "cell_type": "markdown",
   "metadata": {},
   "source": [
    "We can see that the probability of the fuel tank being empty has decreased and that the probability of a bad batter has increased."
   ]
  }
 ],
 "metadata": {
  "kernelspec": {
   "display_name": "Python 3 (ipykernel)",
   "language": "python",
   "name": "python3"
  },
  "language_info": {
   "codemirror_mode": {
    "name": "ipython",
    "version": 3
   },
   "file_extension": ".py",
   "mimetype": "text/x-python",
   "name": "python",
   "nbconvert_exporter": "python",
   "pygments_lexer": "ipython3",
   "version": "3.10.9"
  },
  "vscode": {
   "interpreter": {
    "hash": "eda6bef9f8152d7b044b16773aa4014f02dea69abd6637360e280b2de55d1a6b"
   }
  }
 },
 "nbformat": 4,
 "nbformat_minor": 4
}
