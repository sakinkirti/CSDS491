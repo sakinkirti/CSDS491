{
 "cells": [
  {
   "cell_type": "code",
   "execution_count": 1,
   "metadata": {},
   "outputs": [],
   "source": [
    "import numpy as np\n",
    "import pandas as pd\n",
    "import sklearn.preprocessing as preprocessing\n",
    "from matplotlib import pyplot as plt\n",
    "\n",
    "import neuralnet"
   ]
  },
  {
   "attachments": {},
   "cell_type": "markdown",
   "metadata": {},
   "source": [
    "The neuralnet folder creates a pytorch neural network. The values for the network can be modified there. The training and testing functions are also defined there. Running the model should be as easy as open the data file and running it through the model"
   ]
  },
  {
   "cell_type": "code",
   "execution_count": 2,
   "metadata": {},
   "outputs": [],
   "source": [
    "data = pd.read_csv(\"train.csv\")\n",
    "data = data.sample(frac=1)"
   ]
  },
  {
   "attachments": {},
   "cell_type": "markdown",
   "metadata": {},
   "source": [
    "Isolate the features and labels"
   ]
  },
  {
   "cell_type": "code",
   "execution_count": 3,
   "metadata": {},
   "outputs": [],
   "source": [
    "Ytrain = data.filter(items=[\"Status\"])\n",
    "Xtrain = data.drop(\"Status\", axis=1)"
   ]
  },
  {
   "cell_type": "code",
   "execution_count": 4,
   "metadata": {},
   "outputs": [
    {
     "name": "stdout",
     "output_type": "stream",
     "text": [
      "Unnamed: 0               int64\n",
      "AgatstonScore2D        float64\n",
      "MassScore              float64\n",
      "VolumeScore            float64\n",
      "Area2D                 float64\n",
      "                        ...   \n",
      "ICskewnesstMomentH3    float64\n",
      "ICkurtosisMomentH1     float64\n",
      "ICkurtosisMomentH2     float64\n",
      "ICkurtosisMomentH3     float64\n",
      "Time                     int64\n",
      "Length: 80, dtype: object\n"
     ]
    }
   ],
   "source": [
    "print(Xtrain.dtypes)"
   ]
  },
  {
   "cell_type": "code",
   "execution_count": 5,
   "metadata": {},
   "outputs": [
    {
     "data": {
      "text/html": [
       "<div>\n",
       "<style scoped>\n",
       "    .dataframe tbody tr th:only-of-type {\n",
       "        vertical-align: middle;\n",
       "    }\n",
       "\n",
       "    .dataframe tbody tr th {\n",
       "        vertical-align: top;\n",
       "    }\n",
       "\n",
       "    .dataframe thead th {\n",
       "        text-align: right;\n",
       "    }\n",
       "</style>\n",
       "<table border=\"1\" class=\"dataframe\">\n",
       "  <thead>\n",
       "    <tr style=\"text-align: right;\">\n",
       "      <th></th>\n",
       "      <th>isAgZero</th>\n",
       "      <th>isLesion3DBelow5</th>\n",
       "      <th>isAgeBelow60</th>\n",
       "      <th>AgGroupX1</th>\n",
       "      <th>AgGroupX2</th>\n",
       "      <th>AgGroupX3</th>\n",
       "      <th>isArt2plus</th>\n",
       "      <th>isArt3plus</th>\n",
       "    </tr>\n",
       "  </thead>\n",
       "  <tbody>\n",
       "    <tr>\n",
       "      <th>3089</th>\n",
       "      <td>True</td>\n",
       "      <td>True</td>\n",
       "      <td>True</td>\n",
       "      <td>False</td>\n",
       "      <td>False</td>\n",
       "      <td>False</td>\n",
       "      <td>False</td>\n",
       "      <td>False</td>\n",
       "    </tr>\n",
       "    <tr>\n",
       "      <th>3081</th>\n",
       "      <td>False</td>\n",
       "      <td>False</td>\n",
       "      <td>True</td>\n",
       "      <td>False</td>\n",
       "      <td>True</td>\n",
       "      <td>True</td>\n",
       "      <td>True</td>\n",
       "      <td>True</td>\n",
       "    </tr>\n",
       "    <tr>\n",
       "      <th>3012</th>\n",
       "      <td>False</td>\n",
       "      <td>False</td>\n",
       "      <td>True</td>\n",
       "      <td>False</td>\n",
       "      <td>True</td>\n",
       "      <td>True</td>\n",
       "      <td>True</td>\n",
       "      <td>True</td>\n",
       "    </tr>\n",
       "    <tr>\n",
       "      <th>2923</th>\n",
       "      <td>False</td>\n",
       "      <td>False</td>\n",
       "      <td>False</td>\n",
       "      <td>False</td>\n",
       "      <td>True</td>\n",
       "      <td>True</td>\n",
       "      <td>True</td>\n",
       "      <td>True</td>\n",
       "    </tr>\n",
       "    <tr>\n",
       "      <th>2167</th>\n",
       "      <td>True</td>\n",
       "      <td>True</td>\n",
       "      <td>True</td>\n",
       "      <td>False</td>\n",
       "      <td>False</td>\n",
       "      <td>False</td>\n",
       "      <td>False</td>\n",
       "      <td>False</td>\n",
       "    </tr>\n",
       "  </tbody>\n",
       "</table>\n",
       "</div>"
      ],
      "text/plain": [
       "      isAgZero  isLesion3DBelow5  isAgeBelow60  AgGroupX1  AgGroupX2  \\\n",
       "3089      True              True          True      False      False   \n",
       "3081     False             False          True      False       True   \n",
       "3012     False             False          True      False       True   \n",
       "2923     False             False         False      False       True   \n",
       "2167      True              True          True      False      False   \n",
       "\n",
       "      AgGroupX3  isArt2plus  isArt3plus  \n",
       "3089      False       False       False  \n",
       "3081       True        True        True  \n",
       "3012       True        True        True  \n",
       "2923       True        True        True  \n",
       "2167      False       False       False  "
      ]
     },
     "execution_count": 5,
     "metadata": {},
     "output_type": "execute_result"
    }
   ],
   "source": [
    "obj_df = Xtrain.select_dtypes(include=['object', 'string', 'bool']).copy()\n",
    "obj_df.head()"
   ]
  },
  {
   "attachments": {},
   "cell_type": "markdown",
   "metadata": {},
   "source": [
    "We have some boolean values that need to be encoded; let's set the false values to 0 and the true values to 1s"
   ]
  },
  {
   "cell_type": "code",
   "execution_count": 6,
   "metadata": {},
   "outputs": [],
   "source": [
    "Xtrain.replace({False: 0, True: 1}, inplace=True)"
   ]
  },
  {
   "attachments": {},
   "cell_type": "markdown",
   "metadata": {},
   "source": [
    "The `train` method in neuralnet.py automatically initializes a the model that is specified in the file, so we don't need to worry about doing this manually. We can just call the train method and it will train the network"
   ]
  },
  {
   "cell_type": "code",
   "execution_count": 7,
   "metadata": {},
   "outputs": [],
   "source": [
    "# convert to numpy arrays\n",
    "Xtrain = Xtrain.to_numpy()\n",
    "Ytrain = Ytrain.to_numpy()"
   ]
  },
  {
   "cell_type": "code",
   "execution_count": 12,
   "metadata": {},
   "outputs": [
    {
     "name": "stdout",
     "output_type": "stream",
     "text": [
      "Final Loss: 0.4247022867202759\n"
     ]
    },
    {
     "data": {
      "image/png": "[encoded data removed]",
      "text/plain": [
       "<Figure size 640x480 with 1 Axes>"
      ]
     },
     "metadata": {},
     "output_type": "display_data"
    }
   ],
   "source": [
    "model, epochs, loss = neuralnet.train(Xtrain, Ytrain, num_epochs=200)\n",
    "\n",
    "# plot the training\n",
    "plt.plot(epochs, loss)\n",
    "plt.title(\"Loss over training epochs\")\n",
    "plt.xlabel(\"epochs\")\n",
    "plt.ylabel(\"loss\")\n",
    "plt.show()"
   ]
  },
  {
   "attachments": {},
   "cell_type": "markdown",
   "metadata": {},
   "source": [
    "Let's quickly test the model"
   ]
  },
  {
   "cell_type": "code",
   "execution_count": 13,
   "metadata": {},
   "outputs": [],
   "source": [
    "test_data = pd.read_csv(\"test.csv\")\n",
    "\n",
    "# isolate X,Y\n",
    "Xtest = test_data.drop(\"Status\", axis=1)\n",
    "Ytest = test_data.filter(items=[\"Status\"])\n",
    "\n",
    "# encode the booleans\n",
    "Xtest.replace({False: 0, True: 1}, inplace=True)\n",
    "\n",
    "# convert to numpy\n",
    "Xtest = Xtest.to_numpy()\n",
    "Ytest = Ytest.to_numpy()"
   ]
  },
  {
   "cell_type": "code",
   "execution_count": 14,
   "metadata": {},
   "outputs": [
    {
     "name": "stdout",
     "output_type": "stream",
     "text": [
      "Model Accuracy: 0.8434959053993225\n"
     ]
    },
    {
     "data": {
      "text/html": [
       "<div>\n",
       "<style scoped>\n",
       "    .dataframe tbody tr th:only-of-type {\n",
       "        vertical-align: middle;\n",
       "    }\n",
       "\n",
       "    .dataframe tbody tr th {\n",
       "        vertical-align: top;\n",
       "    }\n",
       "\n",
       "    .dataframe thead th {\n",
       "        text-align: right;\n",
       "    }\n",
       "</style>\n",
       "<table border=\"1\" class=\"dataframe\">\n",
       "  <thead>\n",
       "    <tr style=\"text-align: right;\">\n",
       "      <th></th>\n",
       "      <th>0</th>\n",
       "      <th>1</th>\n",
       "      <th>labels</th>\n",
       "    </tr>\n",
       "  </thead>\n",
       "  <tbody>\n",
       "    <tr>\n",
       "      <th>0</th>\n",
       "      <td>0.988654</td>\n",
       "      <td>1.134593e-02</td>\n",
       "      <td>0</td>\n",
       "    </tr>\n",
       "    <tr>\n",
       "      <th>1</th>\n",
       "      <td>1.000000</td>\n",
       "      <td>1.003044e-09</td>\n",
       "      <td>0</td>\n",
       "    </tr>\n",
       "    <tr>\n",
       "      <th>2</th>\n",
       "      <td>1.000000</td>\n",
       "      <td>1.166258e-09</td>\n",
       "      <td>0</td>\n",
       "    </tr>\n",
       "    <tr>\n",
       "      <th>3</th>\n",
       "      <td>0.999821</td>\n",
       "      <td>1.789827e-04</td>\n",
       "      <td>0</td>\n",
       "    </tr>\n",
       "    <tr>\n",
       "      <th>4</th>\n",
       "      <td>0.562613</td>\n",
       "      <td>4.373870e-01</td>\n",
       "      <td>0</td>\n",
       "    </tr>\n",
       "  </tbody>\n",
       "</table>\n",
       "</div>"
      ],
      "text/plain": [
       "          0             1  labels\n",
       "0  0.988654  1.134593e-02       0\n",
       "1  1.000000  1.003044e-09       0\n",
       "2  1.000000  1.166258e-09       0\n",
       "3  0.999821  1.789827e-04       0\n",
       "4  0.562613  4.373870e-01       0"
      ]
     },
     "execution_count": 14,
     "metadata": {},
     "output_type": "execute_result"
    }
   ],
   "source": [
    "# test\n",
    "acc, preds = neuralnet.test(model, Xtest, Ytest)\n",
    "print(f\"Model Accuracy: {acc}\")\n",
    "\n",
    "# save the preds\n",
    "preds = pd.DataFrame(preds)\n",
    "preds[\"labels\"] = Ytest\n",
    "preds.to_csv(\"preds.csv\")\n",
    "preds.head()"
   ]
  },
  {
   "attachments": {},
   "cell_type": "markdown",
   "metadata": {},
   "source": [
    "We know that our training set is 50/50 for each label. To make sure that we aren't just outputting one number, we can test against the training set. If we get an accuracy of .5, we know that there is just a specific value being outputted without the model learning any of the features."
   ]
  },
  {
   "cell_type": "code",
   "execution_count": 11,
   "metadata": {},
   "outputs": [
    {
     "name": "stdout",
     "output_type": "stream",
     "text": [
      "Model Accuracy: 0.9215686321258545\n"
     ]
    }
   ],
   "source": [
    "acc, train_preds = neuralnet.test(model, Xtrain, Ytrain)\n",
    "print(f\"Model Accuracy: {acc}\")"
   ]
  },
  {
   "cell_type": "code",
   "execution_count": null,
   "metadata": {},
   "outputs": [],
   "source": []
  }
 ],
 "metadata": {
  "kernelspec": {
   "display_name": "pgm",
   "language": "python",
   "name": "python3"
  },
  "language_info": {
   "codemirror_mode": {
    "name": "ipython",
    "version": 3
   },
   "file_extension": ".py",
   "mimetype": "text/x-python",
   "name": "python",
   "nbconvert_exporter": "python",
   "pygments_lexer": "ipython3",
   "version": "3.10.9"
  },
  "orig_nbformat": 4
 },
 "nbformat": 4,
 "nbformat_minor": 2
}
