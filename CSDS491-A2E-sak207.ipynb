{
 "cells": [
  {
   "attachments": {},
   "cell_type": "markdown",
   "metadata": {
    "Collapsed": "false"
   },
   "source": [
    "## Exploration (20 pts)\n"
   ]
  },
  {
   "cell_type": "markdown",
   "metadata": {
    "Collapsed": "false"
   },
   "source": [
    "Like in the first assignment, in this exercise, you have more lattiude and are meant to do creative exploration.  Like before you don't need to write a book chapter, but the intention is for you to go beyond what's been covered above.\n",
    "\n",
    "Implement a belief network of your own choosing or design.  It should be more complex that the examples above.  It should be discrete (we will cover continous models later). Use the model to illustrate deductive inference problems.\n"
   ]
  },
  {
   "cell_type": "markdown",
   "metadata": {
    "Collapsed": "false"
   },
   "source": [
    "#### Exploration Grading Rubric\n",
    "\n",
    "Exploration problems will be graded according the elements in the table below.  The scores in the column headers indicate the number of points possible for each rubric element (given in the rows).  A score of zero for an element is possible if it is missing entirely.\n",
    "\n",
    "|     | Substandard (+1) | Basic (+2) | Good (+3) | Excellent (+5) |\n",
    "| :-- | :----------- | :---- | :--- | :-------- |\n",
    "| <b> Pedagogical Value </b> | No clear statement of idea or concept being explored or explained; lack of motivating questions. | Simple problem with adequate motivation; still could be a useful addition to an assignment. | Good choice of problem with effective illustrations of concept(s).  Demonstrates a deeper level of understanding. | Problem also illustrates or clarifies common conceptual difficulties or misconceptions. |\n",
    "| <b> Novelty of Ideas </b> | Copies existing problem or makes only a trivial modification; lack of citation(s) for source of inspiration. | Concepts are similar to those covered in the assignment but with some modifications of an existing exericse. | Ideas have clear pedagogical motivation; creates different type of problem or exercise to explore related or foundational concepts more deeply. | Applies a technique or explores concept not covered in the assignment or not discussed at length in lecture. | \n",
    "| <b> Clarity of Explanation </b> | Little or confusing explanation; figures lack labels or useful captions; no explanation of motivations. | Explanations are present, but unclear, unfocused, wordy or contain too much technical detail. | Clear and concise explanations of key ideas and motivations. | Also clear and concise, but includes illustrative figures; could be read and understood by students from a variety of backgrounds. |\n",
    "| <b> Depth of Exploration </b> | Content is obvious or closely imitates assignment problems. | Uses existing problem for different data. | Applies a variation of a technique to solve a problem with an interesting motivation; explores a concept in a series of related problems. | Applies several concepts or techniques; has clear focus of inquiry that is approached from multiple directions.|"
   ]
  },
  {
   "attachments": {},
   "cell_type": "markdown",
   "metadata": {},
   "source": [
    "## Death by Heart Disease\n",
    "One fairly elusive area to create new insights is in the medical field. Currently, many deep learning algorithms are being used to diagnose diseases, such as using CNNs with MRI inputs to diagnose various cancers. These methods, while accurate, require the use of complex, expensive imaging technologies which can be unsafe if used consistently on the same patient. While they provide great accurate results, the continued use of them to diagnose patients for many diseases/disorders may leave patients with empty pockets and increased disease because of exposure to radiation and high powered magnets. In addition to the costs on the patient required to diagnose, they also require large corpus of examples, which rarely have accurate strata of race/gender/status, to train properly. \n",
    "\n",
    "Alternatively, doctors have tons of knowledge of treatments options, but can often be stuck in a rut of trying to diagnose between potential options. To aid doctors and quantify their knowledge, a belief network can be used to provide probabalistic reasoning for a particular disease. In addition to helping physicians, belief models follow the distributions they are given, meaning, regardless of the sample size, if you are confident in the strata and frequency of your inputs, you can be satisfied with the outputs. Below, I have created a belief network for studying heart disease, demonstrating how a physician might be able to take the help of a belief network to better understand the risk of death associated with heart disease based on a person's symptoms."
   ]
  },
  {
   "attachments": {},
   "cell_type": "markdown",
   "metadata": {},
   "source": [
    "### Data Cleaning\n",
    "The dataset used for this exploration does not contain many missing values, but does contain some continuous variables. These continuous variables need to be binned and categorized to create a discrete belief network. "
   ]
  },
  {
   "cell_type": "code",
   "execution_count": 1,
   "metadata": {
    "Collapsed": "false"
   },
   "outputs": [],
   "source": [
    "import numpy as np\n",
    "import pandas as pd\n",
    "import matplotlib.pyplot as plt"
   ]
  },
  {
   "cell_type": "code",
   "execution_count": 2,
   "metadata": {},
   "outputs": [
    {
     "data": {
      "text/html": [
       "<div>\n",
       "<style scoped>\n",
       "    .dataframe tbody tr th:only-of-type {\n",
       "        vertical-align: middle;\n",
       "    }\n",
       "\n",
       "    .dataframe tbody tr th {\n",
       "        vertical-align: top;\n",
       "    }\n",
       "\n",
       "    .dataframe thead th {\n",
       "        text-align: right;\n",
       "    }\n",
       "</style>\n",
       "<table border=\"1\" class=\"dataframe\">\n",
       "  <thead>\n",
       "    <tr style=\"text-align: right;\">\n",
       "      <th></th>\n",
       "      <th>age</th>\n",
       "      <th>anaemia</th>\n",
       "      <th>creatinine_phosphokinase</th>\n",
       "      <th>diabetes</th>\n",
       "      <th>ejection_fraction</th>\n",
       "      <th>high_blood_pressure</th>\n",
       "      <th>platelets</th>\n",
       "      <th>serum_creatinine</th>\n",
       "      <th>serum_sodium</th>\n",
       "      <th>sex</th>\n",
       "      <th>smoking</th>\n",
       "      <th>time</th>\n",
       "      <th>DEATH_EVENT</th>\n",
       "    </tr>\n",
       "  </thead>\n",
       "  <tbody>\n",
       "    <tr>\n",
       "      <th>0</th>\n",
       "      <td>75.0</td>\n",
       "      <td>0</td>\n",
       "      <td>582</td>\n",
       "      <td>0</td>\n",
       "      <td>20</td>\n",
       "      <td>1</td>\n",
       "      <td>265000.00</td>\n",
       "      <td>1.9</td>\n",
       "      <td>130</td>\n",
       "      <td>1</td>\n",
       "      <td>0</td>\n",
       "      <td>4</td>\n",
       "      <td>1</td>\n",
       "    </tr>\n",
       "    <tr>\n",
       "      <th>1</th>\n",
       "      <td>55.0</td>\n",
       "      <td>0</td>\n",
       "      <td>7861</td>\n",
       "      <td>0</td>\n",
       "      <td>38</td>\n",
       "      <td>0</td>\n",
       "      <td>263358.03</td>\n",
       "      <td>1.1</td>\n",
       "      <td>136</td>\n",
       "      <td>1</td>\n",
       "      <td>0</td>\n",
       "      <td>6</td>\n",
       "      <td>1</td>\n",
       "    </tr>\n",
       "    <tr>\n",
       "      <th>2</th>\n",
       "      <td>65.0</td>\n",
       "      <td>0</td>\n",
       "      <td>146</td>\n",
       "      <td>0</td>\n",
       "      <td>20</td>\n",
       "      <td>0</td>\n",
       "      <td>162000.00</td>\n",
       "      <td>1.3</td>\n",
       "      <td>129</td>\n",
       "      <td>1</td>\n",
       "      <td>1</td>\n",
       "      <td>7</td>\n",
       "      <td>1</td>\n",
       "    </tr>\n",
       "    <tr>\n",
       "      <th>3</th>\n",
       "      <td>50.0</td>\n",
       "      <td>1</td>\n",
       "      <td>111</td>\n",
       "      <td>0</td>\n",
       "      <td>20</td>\n",
       "      <td>0</td>\n",
       "      <td>210000.00</td>\n",
       "      <td>1.9</td>\n",
       "      <td>137</td>\n",
       "      <td>1</td>\n",
       "      <td>0</td>\n",
       "      <td>7</td>\n",
       "      <td>1</td>\n",
       "    </tr>\n",
       "    <tr>\n",
       "      <th>4</th>\n",
       "      <td>65.0</td>\n",
       "      <td>1</td>\n",
       "      <td>160</td>\n",
       "      <td>1</td>\n",
       "      <td>20</td>\n",
       "      <td>0</td>\n",
       "      <td>327000.00</td>\n",
       "      <td>2.7</td>\n",
       "      <td>116</td>\n",
       "      <td>0</td>\n",
       "      <td>0</td>\n",
       "      <td>8</td>\n",
       "      <td>1</td>\n",
       "    </tr>\n",
       "  </tbody>\n",
       "</table>\n",
       "</div>"
      ],
      "text/plain": [
       "    age  anaemia  creatinine_phosphokinase  ...  smoking  time  DEATH_EVENT\n",
       "0  75.0        0                       582  ...        0     4            1\n",
       "1  55.0        0                      7861  ...        0     6            1\n",
       "2  65.0        0                       146  ...        1     7            1\n",
       "3  50.0        1                       111  ...        0     7            1\n",
       "4  65.0        1                       160  ...        0     8            1\n",
       "\n",
       "[5 rows x 13 columns]"
      ]
     },
     "execution_count": 2,
     "metadata": {},
     "output_type": "execute_result"
    }
   ],
   "source": [
    "data_cont = pd.read_csv(\"data.csv\")\n",
    "data = data_cont.copy(deep=True)\n",
    "data.head()"
   ]
  },
  {
   "cell_type": "code",
   "execution_count": 3,
   "metadata": {},
   "outputs": [
    {
     "data": {
      "image/png": "[encoded data removed]",
      "text/plain": [
       "<Figure size 640x480 with 12 Axes>"
      ]
     },
     "metadata": {},
     "output_type": "display_data"
    }
   ],
   "source": [
    "# histogram of each column\n",
    "cols = data.columns.tolist()\n",
    "\n",
    "fig, ax = plt.subplots(4, 3)\n",
    "for i in range(4):\n",
    "    for j in range(3):\n",
    "        ax[i,j].hist(data[cols[(i*3) + j]])\n",
    "        ax[i,j].title.set_text(cols[(i*3) + j])"
   ]
  },
  {
   "attachments": {},
   "cell_type": "markdown",
   "metadata": {},
   "source": [
    "Based on the quick look at the histograms we can see that age, creatinine_phosphokinase, ejection_fraction, platelets, serum_cretinine, serum_sodium, and time are continuous variables that need to be converted into discrete variables. We can acheive this by binning the data.<br>\n",
    "\n",
    "Binning the data must be done carefully because in health, both high and low values can be bad. Therefore, we can bin these data into three groups - the bottom 25%, middle 50%, and top 25%, where the middle 50% is regarded are the \"normal range\". This process of discretizing the data is okay to use as demonstrated by the source of the data: https://www.kaggle.com/datasets/whenamancodes/heart-failure-clinical-records"
   ]
  },
  {
   "cell_type": "code",
   "execution_count": 4,
   "metadata": {},
   "outputs": [
    {
     "data": {
      "text/html": [
       "<div>\n",
       "<style scoped>\n",
       "    .dataframe tbody tr th:only-of-type {\n",
       "        vertical-align: middle;\n",
       "    }\n",
       "\n",
       "    .dataframe tbody tr th {\n",
       "        vertical-align: top;\n",
       "    }\n",
       "\n",
       "    .dataframe thead th {\n",
       "        text-align: right;\n",
       "    }\n",
       "</style>\n",
       "<table border=\"1\" class=\"dataframe\">\n",
       "  <thead>\n",
       "    <tr style=\"text-align: right;\">\n",
       "      <th></th>\n",
       "      <th>age</th>\n",
       "      <th>anaemia</th>\n",
       "      <th>creatinine_phosphokinase</th>\n",
       "      <th>diabetes</th>\n",
       "      <th>ejection_fraction</th>\n",
       "      <th>high_blood_pressure</th>\n",
       "      <th>platelets</th>\n",
       "      <th>serum_creatinine</th>\n",
       "      <th>serum_sodium</th>\n",
       "      <th>sex</th>\n",
       "      <th>smoking</th>\n",
       "      <th>time</th>\n",
       "      <th>DEATH_EVENT</th>\n",
       "    </tr>\n",
       "  </thead>\n",
       "  <tbody>\n",
       "    <tr>\n",
       "      <th>count</th>\n",
       "      <td>299.000000</td>\n",
       "      <td>299.000000</td>\n",
       "      <td>299.000000</td>\n",
       "      <td>299.000000</td>\n",
       "      <td>299.000000</td>\n",
       "      <td>299.000000</td>\n",
       "      <td>299.000000</td>\n",
       "      <td>299.00000</td>\n",
       "      <td>299.000000</td>\n",
       "      <td>299.000000</td>\n",
       "      <td>299.00000</td>\n",
       "      <td>299.000000</td>\n",
       "      <td>299.00000</td>\n",
       "    </tr>\n",
       "    <tr>\n",
       "      <th>mean</th>\n",
       "      <td>60.833893</td>\n",
       "      <td>0.431438</td>\n",
       "      <td>581.839465</td>\n",
       "      <td>0.418060</td>\n",
       "      <td>38.083612</td>\n",
       "      <td>0.351171</td>\n",
       "      <td>263358.029264</td>\n",
       "      <td>1.39388</td>\n",
       "      <td>136.625418</td>\n",
       "      <td>0.648829</td>\n",
       "      <td>0.32107</td>\n",
       "      <td>130.260870</td>\n",
       "      <td>0.32107</td>\n",
       "    </tr>\n",
       "    <tr>\n",
       "      <th>std</th>\n",
       "      <td>11.894809</td>\n",
       "      <td>0.496107</td>\n",
       "      <td>970.287881</td>\n",
       "      <td>0.494067</td>\n",
       "      <td>11.834841</td>\n",
       "      <td>0.478136</td>\n",
       "      <td>97804.236869</td>\n",
       "      <td>1.03451</td>\n",
       "      <td>4.412477</td>\n",
       "      <td>0.478136</td>\n",
       "      <td>0.46767</td>\n",
       "      <td>77.614208</td>\n",
       "      <td>0.46767</td>\n",
       "    </tr>\n",
       "    <tr>\n",
       "      <th>min</th>\n",
       "      <td>40.000000</td>\n",
       "      <td>0.000000</td>\n",
       "      <td>23.000000</td>\n",
       "      <td>0.000000</td>\n",
       "      <td>14.000000</td>\n",
       "      <td>0.000000</td>\n",
       "      <td>25100.000000</td>\n",
       "      <td>0.50000</td>\n",
       "      <td>113.000000</td>\n",
       "      <td>0.000000</td>\n",
       "      <td>0.00000</td>\n",
       "      <td>4.000000</td>\n",
       "      <td>0.00000</td>\n",
       "    </tr>\n",
       "    <tr>\n",
       "      <th>25%</th>\n",
       "      <td>51.000000</td>\n",
       "      <td>0.000000</td>\n",
       "      <td>116.500000</td>\n",
       "      <td>0.000000</td>\n",
       "      <td>30.000000</td>\n",
       "      <td>0.000000</td>\n",
       "      <td>212500.000000</td>\n",
       "      <td>0.90000</td>\n",
       "      <td>134.000000</td>\n",
       "      <td>0.000000</td>\n",
       "      <td>0.00000</td>\n",
       "      <td>73.000000</td>\n",
       "      <td>0.00000</td>\n",
       "    </tr>\n",
       "    <tr>\n",
       "      <th>50%</th>\n",
       "      <td>60.000000</td>\n",
       "      <td>0.000000</td>\n",
       "      <td>250.000000</td>\n",
       "      <td>0.000000</td>\n",
       "      <td>38.000000</td>\n",
       "      <td>0.000000</td>\n",
       "      <td>262000.000000</td>\n",
       "      <td>1.10000</td>\n",
       "      <td>137.000000</td>\n",
       "      <td>1.000000</td>\n",
       "      <td>0.00000</td>\n",
       "      <td>115.000000</td>\n",
       "      <td>0.00000</td>\n",
       "    </tr>\n",
       "    <tr>\n",
       "      <th>75%</th>\n",
       "      <td>70.000000</td>\n",
       "      <td>1.000000</td>\n",
       "      <td>582.000000</td>\n",
       "      <td>1.000000</td>\n",
       "      <td>45.000000</td>\n",
       "      <td>1.000000</td>\n",
       "      <td>303500.000000</td>\n",
       "      <td>1.40000</td>\n",
       "      <td>140.000000</td>\n",
       "      <td>1.000000</td>\n",
       "      <td>1.00000</td>\n",
       "      <td>203.000000</td>\n",
       "      <td>1.00000</td>\n",
       "    </tr>\n",
       "    <tr>\n",
       "      <th>max</th>\n",
       "      <td>95.000000</td>\n",
       "      <td>1.000000</td>\n",
       "      <td>7861.000000</td>\n",
       "      <td>1.000000</td>\n",
       "      <td>80.000000</td>\n",
       "      <td>1.000000</td>\n",
       "      <td>850000.000000</td>\n",
       "      <td>9.40000</td>\n",
       "      <td>148.000000</td>\n",
       "      <td>1.000000</td>\n",
       "      <td>1.00000</td>\n",
       "      <td>285.000000</td>\n",
       "      <td>1.00000</td>\n",
       "    </tr>\n",
       "  </tbody>\n",
       "</table>\n",
       "</div>"
      ],
      "text/plain": [
       "              age     anaemia  ...        time  DEATH_EVENT\n",
       "count  299.000000  299.000000  ...  299.000000    299.00000\n",
       "mean    60.833893    0.431438  ...  130.260870      0.32107\n",
       "std     11.894809    0.496107  ...   77.614208      0.46767\n",
       "min     40.000000    0.000000  ...    4.000000      0.00000\n",
       "25%     51.000000    0.000000  ...   73.000000      0.00000\n",
       "50%     60.000000    0.000000  ...  115.000000      0.00000\n",
       "75%     70.000000    1.000000  ...  203.000000      1.00000\n",
       "max     95.000000    1.000000  ...  285.000000      1.00000\n",
       "\n",
       "[8 rows x 13 columns]"
      ]
     },
     "execution_count": 4,
     "metadata": {},
     "output_type": "execute_result"
    }
   ],
   "source": [
    "data.describe()"
   ]
  },
  {
   "cell_type": "code",
   "execution_count": 5,
   "metadata": {},
   "outputs": [
    {
     "data": {
      "text/plain": [
       "age                         float64\n",
       "anaemia                     float64\n",
       "creatinine_phosphokinase    float64\n",
       "diabetes                    float64\n",
       "ejection_fraction           float64\n",
       "high_blood_pressure         float64\n",
       "platelets                   float64\n",
       "serum_creatinine            float64\n",
       "serum_sodium                float64\n",
       "sex                         float64\n",
       "smoking                     float64\n",
       "time                        float64\n",
       "DEATH_EVENT                 float64\n",
       "dtype: object"
      ]
     },
     "execution_count": 5,
     "metadata": {},
     "output_type": "execute_result"
    }
   ],
   "source": [
    "data.astype(\"float64\").dtypes"
   ]
  },
  {
   "cell_type": "code",
   "execution_count": 6,
   "metadata": {},
   "outputs": [
    {
     "data": {
      "text/html": [
       "<div>\n",
       "<style scoped>\n",
       "    .dataframe tbody tr th:only-of-type {\n",
       "        vertical-align: middle;\n",
       "    }\n",
       "\n",
       "    .dataframe tbody tr th {\n",
       "        vertical-align: top;\n",
       "    }\n",
       "\n",
       "    .dataframe thead th {\n",
       "        text-align: right;\n",
       "    }\n",
       "</style>\n",
       "<table border=\"1\" class=\"dataframe\">\n",
       "  <thead>\n",
       "    <tr style=\"text-align: right;\">\n",
       "      <th></th>\n",
       "      <th>age</th>\n",
       "      <th>anaemia</th>\n",
       "      <th>creatinine_phosphokinase</th>\n",
       "      <th>diabetes</th>\n",
       "      <th>ejection_fraction</th>\n",
       "      <th>high_blood_pressure</th>\n",
       "      <th>platelets</th>\n",
       "      <th>serum_creatinine</th>\n",
       "      <th>serum_sodium</th>\n",
       "      <th>sex</th>\n",
       "      <th>smoking</th>\n",
       "      <th>time</th>\n",
       "      <th>DEATH_EVENT</th>\n",
       "    </tr>\n",
       "  </thead>\n",
       "  <tbody>\n",
       "    <tr>\n",
       "      <th>0</th>\n",
       "      <td>75.0</td>\n",
       "      <td>no</td>\n",
       "      <td>582</td>\n",
       "      <td>no</td>\n",
       "      <td>20</td>\n",
       "      <td>yes</td>\n",
       "      <td>265000.00</td>\n",
       "      <td>1.9</td>\n",
       "      <td>130</td>\n",
       "      <td>male</td>\n",
       "      <td>no</td>\n",
       "      <td>4</td>\n",
       "      <td>yes</td>\n",
       "    </tr>\n",
       "    <tr>\n",
       "      <th>1</th>\n",
       "      <td>55.0</td>\n",
       "      <td>no</td>\n",
       "      <td>7861</td>\n",
       "      <td>no</td>\n",
       "      <td>38</td>\n",
       "      <td>no</td>\n",
       "      <td>263358.03</td>\n",
       "      <td>1.1</td>\n",
       "      <td>136</td>\n",
       "      <td>male</td>\n",
       "      <td>no</td>\n",
       "      <td>6</td>\n",
       "      <td>yes</td>\n",
       "    </tr>\n",
       "    <tr>\n",
       "      <th>2</th>\n",
       "      <td>65.0</td>\n",
       "      <td>no</td>\n",
       "      <td>146</td>\n",
       "      <td>no</td>\n",
       "      <td>20</td>\n",
       "      <td>no</td>\n",
       "      <td>162000.00</td>\n",
       "      <td>1.3</td>\n",
       "      <td>129</td>\n",
       "      <td>male</td>\n",
       "      <td>yes</td>\n",
       "      <td>7</td>\n",
       "      <td>yes</td>\n",
       "    </tr>\n",
       "    <tr>\n",
       "      <th>3</th>\n",
       "      <td>50.0</td>\n",
       "      <td>yes</td>\n",
       "      <td>111</td>\n",
       "      <td>no</td>\n",
       "      <td>20</td>\n",
       "      <td>no</td>\n",
       "      <td>210000.00</td>\n",
       "      <td>1.9</td>\n",
       "      <td>137</td>\n",
       "      <td>male</td>\n",
       "      <td>no</td>\n",
       "      <td>7</td>\n",
       "      <td>yes</td>\n",
       "    </tr>\n",
       "    <tr>\n",
       "      <th>4</th>\n",
       "      <td>65.0</td>\n",
       "      <td>yes</td>\n",
       "      <td>160</td>\n",
       "      <td>yes</td>\n",
       "      <td>20</td>\n",
       "      <td>no</td>\n",
       "      <td>327000.00</td>\n",
       "      <td>2.7</td>\n",
       "      <td>116</td>\n",
       "      <td>female</td>\n",
       "      <td>no</td>\n",
       "      <td>8</td>\n",
       "      <td>yes</td>\n",
       "    </tr>\n",
       "  </tbody>\n",
       "</table>\n",
       "</div>"
      ],
      "text/plain": [
       "    age anaemia  creatinine_phosphokinase  ... smoking  time DEATH_EVENT\n",
       "0  75.0      no                       582  ...      no     4         yes\n",
       "1  55.0      no                      7861  ...      no     6         yes\n",
       "2  65.0      no                       146  ...     yes     7         yes\n",
       "3  50.0     yes                       111  ...      no     7         yes\n",
       "4  65.0     yes                       160  ...      no     8         yes\n",
       "\n",
       "[5 rows x 13 columns]"
      ]
     },
     "execution_count": 6,
     "metadata": {},
     "output_type": "execute_result"
    }
   ],
   "source": [
    "# bin the discretized variables\n",
    "data[\"sex\"] = np.where(data[\"sex\"]==0, \"female\", \"male\")\n",
    "cols.remove(\"sex\")\n",
    "\n",
    "for c in cols:\n",
    "    if data[c].max() - data[c].min() == 1:\n",
    "        data[c] = np.where(data[c]==0, \"no\", \"yes\")\n",
    "        cols.remove(c)\n",
    "\n",
    "data.head()"
   ]
  },
  {
   "attachments": {},
   "cell_type": "markdown",
   "metadata": {},
   "source": [
    "We can then bin the continous variables based on what is considered \"normal\" ranges. These ranges were found from quick google searches after verifying the source was reputable. "
   ]
  },
  {
   "cell_type": "code",
   "execution_count": 7,
   "metadata": {},
   "outputs": [
    {
     "data": {
      "text/html": [
       "<div>\n",
       "<style scoped>\n",
       "    .dataframe tbody tr th:only-of-type {\n",
       "        vertical-align: middle;\n",
       "    }\n",
       "\n",
       "    .dataframe tbody tr th {\n",
       "        vertical-align: top;\n",
       "    }\n",
       "\n",
       "    .dataframe thead th {\n",
       "        text-align: right;\n",
       "    }\n",
       "</style>\n",
       "<table border=\"1\" class=\"dataframe\">\n",
       "  <thead>\n",
       "    <tr style=\"text-align: right;\">\n",
       "      <th></th>\n",
       "      <th>age</th>\n",
       "      <th>anaemia</th>\n",
       "      <th>creatinine_phosphokinase</th>\n",
       "      <th>diabetes</th>\n",
       "      <th>ejection_fraction</th>\n",
       "      <th>high_blood_pressure</th>\n",
       "      <th>platelets</th>\n",
       "      <th>serum_creatinine</th>\n",
       "      <th>serum_sodium</th>\n",
       "      <th>sex</th>\n",
       "      <th>smoking</th>\n",
       "      <th>time</th>\n",
       "      <th>DEATH_EVENT</th>\n",
       "    </tr>\n",
       "  </thead>\n",
       "  <tbody>\n",
       "    <tr>\n",
       "      <th>0</th>\n",
       "      <td>75.0</td>\n",
       "      <td>no</td>\n",
       "      <td>high</td>\n",
       "      <td>no</td>\n",
       "      <td>very low</td>\n",
       "      <td>yes</td>\n",
       "      <td>normal</td>\n",
       "      <td>high</td>\n",
       "      <td>low</td>\n",
       "      <td>male</td>\n",
       "      <td>no</td>\n",
       "      <td>4</td>\n",
       "      <td>yes</td>\n",
       "    </tr>\n",
       "    <tr>\n",
       "      <th>1</th>\n",
       "      <td>55.0</td>\n",
       "      <td>no</td>\n",
       "      <td>high</td>\n",
       "      <td>no</td>\n",
       "      <td>very low</td>\n",
       "      <td>no</td>\n",
       "      <td>normal</td>\n",
       "      <td>normal</td>\n",
       "      <td>normal</td>\n",
       "      <td>male</td>\n",
       "      <td>no</td>\n",
       "      <td>6</td>\n",
       "      <td>yes</td>\n",
       "    </tr>\n",
       "    <tr>\n",
       "      <th>2</th>\n",
       "      <td>65.0</td>\n",
       "      <td>no</td>\n",
       "      <td>high</td>\n",
       "      <td>no</td>\n",
       "      <td>very low</td>\n",
       "      <td>no</td>\n",
       "      <td>normal</td>\n",
       "      <td>high</td>\n",
       "      <td>low</td>\n",
       "      <td>male</td>\n",
       "      <td>yes</td>\n",
       "      <td>7</td>\n",
       "      <td>yes</td>\n",
       "    </tr>\n",
       "    <tr>\n",
       "      <th>3</th>\n",
       "      <td>50.0</td>\n",
       "      <td>yes</td>\n",
       "      <td>normal</td>\n",
       "      <td>no</td>\n",
       "      <td>very low</td>\n",
       "      <td>no</td>\n",
       "      <td>normal</td>\n",
       "      <td>high</td>\n",
       "      <td>normal</td>\n",
       "      <td>male</td>\n",
       "      <td>no</td>\n",
       "      <td>7</td>\n",
       "      <td>yes</td>\n",
       "    </tr>\n",
       "    <tr>\n",
       "      <th>4</th>\n",
       "      <td>65.0</td>\n",
       "      <td>yes</td>\n",
       "      <td>high</td>\n",
       "      <td>yes</td>\n",
       "      <td>very low</td>\n",
       "      <td>no</td>\n",
       "      <td>normal</td>\n",
       "      <td>high</td>\n",
       "      <td>low</td>\n",
       "      <td>female</td>\n",
       "      <td>no</td>\n",
       "      <td>8</td>\n",
       "      <td>yes</td>\n",
       "    </tr>\n",
       "  </tbody>\n",
       "</table>\n",
       "</div>"
      ],
      "text/plain": [
       "    age anaemia creatinine_phosphokinase  ... smoking time DEATH_EVENT\n",
       "0  75.0      no                     high  ...      no    4         yes\n",
       "1  55.0      no                     high  ...      no    6         yes\n",
       "2  65.0      no                     high  ...     yes    7         yes\n",
       "3  50.0     yes                   normal  ...      no    7         yes\n",
       "4  65.0     yes                     high  ...      no    8         yes\n",
       "\n",
       "[5 rows x 13 columns]"
      ]
     },
     "execution_count": 7,
     "metadata": {},
     "output_type": "execute_result"
    }
   ],
   "source": [
    "# bin the continuous variables based on what is considered in the normal range\n",
    "data[\"creatinine_phosphokinase\"] = pd.cut(data[\"creatinine_phosphokinase\"], bins=[0, 10, 120, 10000], labels=[\"low\", \"normal\", \"high\"])\n",
    "data[\"ejection_fraction\"] = pd.cut(data[\"ejection_fraction\"], bins=[0, 40, 50, 70, 100], labels=[\"very low\", \"low\", \"normal\", \"high\"])\n",
    "data[\"platelets\"] = pd.cut(data[\"platelets\"], bins=[0, 150000, 450000, 1000000], labels=[\"low\", \"normal\", \"high\"])\n",
    "data[\"serum_creatinine\"] = pd.cut(data[\"serum_creatinine\"], bins=[0, 0.67, 1.2, 10], labels=[\"low\", \"normal\", \"high\"])\n",
    "data[\"serum_sodium\"] = pd.cut(data[\"serum_sodium\"], bins=[0, 135, 145, 150], labels=[\"low\", \"normal\", \"high\"])\n",
    "\n",
    "data.head()"
   ]
  },
  {
   "attachments": {},
   "cell_type": "markdown",
   "metadata": {},
   "source": [
    "Dealing with age and time is a bit more ambiguous, so I am just binning these into quartiles. I am not sure if that is considered bad practice, but it was the easiest way for me to bin these groups"
   ]
  },
  {
   "cell_type": "code",
   "execution_count": 8,
   "metadata": {},
   "outputs": [
    {
     "data": {
      "text/html": [
       "<div>\n",
       "<style scoped>\n",
       "    .dataframe tbody tr th:only-of-type {\n",
       "        vertical-align: middle;\n",
       "    }\n",
       "\n",
       "    .dataframe tbody tr th {\n",
       "        vertical-align: top;\n",
       "    }\n",
       "\n",
       "    .dataframe thead th {\n",
       "        text-align: right;\n",
       "    }\n",
       "</style>\n",
       "<table border=\"1\" class=\"dataframe\">\n",
       "  <thead>\n",
       "    <tr style=\"text-align: right;\">\n",
       "      <th></th>\n",
       "      <th>age</th>\n",
       "      <th>anaemia</th>\n",
       "      <th>creatinine_phosphokinase</th>\n",
       "      <th>diabetes</th>\n",
       "      <th>ejection_fraction</th>\n",
       "      <th>high_blood_pressure</th>\n",
       "      <th>platelets</th>\n",
       "      <th>serum_creatinine</th>\n",
       "      <th>serum_sodium</th>\n",
       "      <th>sex</th>\n",
       "      <th>smoking</th>\n",
       "      <th>time</th>\n",
       "      <th>DEATH_EVENT</th>\n",
       "    </tr>\n",
       "  </thead>\n",
       "  <tbody>\n",
       "    <tr>\n",
       "      <th>0</th>\n",
       "      <td>old</td>\n",
       "      <td>no</td>\n",
       "      <td>high</td>\n",
       "      <td>no</td>\n",
       "      <td>very low</td>\n",
       "      <td>yes</td>\n",
       "      <td>normal</td>\n",
       "      <td>high</td>\n",
       "      <td>low</td>\n",
       "      <td>male</td>\n",
       "      <td>no</td>\n",
       "      <td>little</td>\n",
       "      <td>yes</td>\n",
       "    </tr>\n",
       "    <tr>\n",
       "      <th>1</th>\n",
       "      <td>young-mid</td>\n",
       "      <td>no</td>\n",
       "      <td>high</td>\n",
       "      <td>no</td>\n",
       "      <td>very low</td>\n",
       "      <td>no</td>\n",
       "      <td>normal</td>\n",
       "      <td>normal</td>\n",
       "      <td>normal</td>\n",
       "      <td>male</td>\n",
       "      <td>no</td>\n",
       "      <td>little</td>\n",
       "      <td>yes</td>\n",
       "    </tr>\n",
       "    <tr>\n",
       "      <th>2</th>\n",
       "      <td>mid-old</td>\n",
       "      <td>no</td>\n",
       "      <td>high</td>\n",
       "      <td>no</td>\n",
       "      <td>very low</td>\n",
       "      <td>no</td>\n",
       "      <td>normal</td>\n",
       "      <td>high</td>\n",
       "      <td>low</td>\n",
       "      <td>male</td>\n",
       "      <td>yes</td>\n",
       "      <td>little</td>\n",
       "      <td>yes</td>\n",
       "    </tr>\n",
       "    <tr>\n",
       "      <th>3</th>\n",
       "      <td>young</td>\n",
       "      <td>yes</td>\n",
       "      <td>normal</td>\n",
       "      <td>no</td>\n",
       "      <td>very low</td>\n",
       "      <td>no</td>\n",
       "      <td>normal</td>\n",
       "      <td>high</td>\n",
       "      <td>normal</td>\n",
       "      <td>male</td>\n",
       "      <td>no</td>\n",
       "      <td>little</td>\n",
       "      <td>yes</td>\n",
       "    </tr>\n",
       "    <tr>\n",
       "      <th>4</th>\n",
       "      <td>mid-old</td>\n",
       "      <td>yes</td>\n",
       "      <td>high</td>\n",
       "      <td>yes</td>\n",
       "      <td>very low</td>\n",
       "      <td>no</td>\n",
       "      <td>normal</td>\n",
       "      <td>high</td>\n",
       "      <td>low</td>\n",
       "      <td>female</td>\n",
       "      <td>no</td>\n",
       "      <td>little</td>\n",
       "      <td>yes</td>\n",
       "    </tr>\n",
       "  </tbody>\n",
       "</table>\n",
       "</div>"
      ],
      "text/plain": [
       "         age anaemia creatinine_phosphokinase  ... smoking    time DEATH_EVENT\n",
       "0        old      no                     high  ...      no  little         yes\n",
       "1  young-mid      no                     high  ...      no  little         yes\n",
       "2    mid-old      no                     high  ...     yes  little         yes\n",
       "3      young     yes                   normal  ...      no  little         yes\n",
       "4    mid-old     yes                     high  ...      no  little         yes\n",
       "\n",
       "[5 rows x 13 columns]"
      ]
     },
     "execution_count": 8,
     "metadata": {},
     "output_type": "execute_result"
    }
   ],
   "source": [
    "# bin age and time\n",
    "data[\"age\"] = pd.qcut(data[\"age\"], q=[0, .25, .5, .75, 1], labels=[\"young\",\"young-mid\", \"mid-old\", \"old\"])\n",
    "data[\"time\"] = pd.qcut(data[\"time\"], q=[0, .33, 0.67, 1], labels=[\"little\", \"mid\", \"lots\"])\n",
    "\n",
    "data.head()"
   ]
  },
  {
   "attachments": {},
   "cell_type": "markdown",
   "metadata": {},
   "source": [
    "## Generating the graph structure"
   ]
  },
  {
   "cell_type": "code",
   "execution_count": 35,
   "metadata": {},
   "outputs": [],
   "source": [
    "import networkx as nx\n",
    "from pgmpy.estimators import HillClimbSearch, ExhaustiveSearch, TreeSearch\n",
    "from matplotlib import pyplot as plt"
   ]
  },
  {
   "attachments": {},
   "cell_type": "markdown",
   "metadata": {},
   "source": [
    "Generating a graph structure comes from knowing first principles regarding a topic. To do this accurately, I took the help of this paper which denotes the relationships between the variables at my disposal.\n",
    "https://jamanetwork.com/journals/jamainternalmedicine/fullarticle/1108492.\n",
    "This paper, however, was not able to give me all the necessary information to generate a graphical structure. Therefore, I generated a graphical structure using the \"HillClimbSearch\" function in pgmpy. This function uses a heuristic to find an optimal graph. It is important to note that this might not be the most optimal graph, but the use of a heuristic allows this to be somewhat optimized. This was able to give me a structure that I then could begin filling with conditional probabilities.<br><br>\n",
    "In performing this search, I also tried ExhaustiveSearch and TreeSearch, but found that these could be used with tradeoffs. I found that TreeSearch was suboptimal because it only produced a tree structure with one root node. While this may have been the fastest, it also is the least possibly true because of the complex nature of biology. In trying the ExhaustiveSearch, the time required to run this algorithm was far too long with the small dataset. In trying to run this, it took more than 20 minutes, and running this several times while testing different methods proved far too long."
   ]
  },
  {
   "cell_type": "code",
   "execution_count": 57,
   "metadata": {},
   "outputs": [
    {
     "name": "stderr",
     "output_type": "stream",
     "text": [
      "  0%|          | 10/1000000 [00:01<30:21:36,  9.15it/s]\n"
     ]
    }
   ],
   "source": [
    "# find structure of graph\n",
    "est = HillClimbSearch(data_cont)\n",
    "graph = est.estimate()"
   ]
  },
  {
   "cell_type": "code",
   "execution_count": 58,
   "metadata": {},
   "outputs": [],
   "source": [
    "graph.add_edges_from([(\"serum_creatinine\", \"DEATH_EVENT\"), (\"time\", \"DEATH_EVENT\")])\n",
    "graph.remove_edges_from([(\"DEATH_EVENT\", \"serum_creatinine\"), (\"DEATH_EVENT\", \"time\")])"
   ]
  },
  {
   "cell_type": "code",
   "execution_count": 70,
   "metadata": {},
   "outputs": [
    {
     "data": {
      "image/png": "[encoded data removed]",
      "text/plain": [
       "<Figure size 640x480 with 1 Axes>"
      ]
     },
     "metadata": {},
     "output_type": "display_data"
    }
   ],
   "source": [
    "nx_graph = nx.DiGraph(graph.edges())\n",
    "nx.draw_networkx(nx_graph, pos=nx.spring_layout(nx_graph))\n",
    "plt.show()"
   ]
  },
  {
   "attachments": {},
   "cell_type": "markdown",
   "metadata": {},
   "source": [
    "Above this graphical structure of my probabalistic model. As can be seen it is fairly complex, and calculating conditional probability distributions would be a hassle considering the number of crossing edges. Therefore, I opted for an automated approach where I fit the model to the given data rather than calculating the probabilities by hand."
   ]
  },
  {
   "attachments": {},
   "cell_type": "markdown",
   "metadata": {},
   "source": [
    "## Inputting Probabilities"
   ]
  },
  {
   "attachments": {},
   "cell_type": "markdown",
   "metadata": {},
   "source": [
    "Now that the graph structure has been defined, we can just fit the model to the data right away rather than inputting the conditional probabilities manually."
   ]
  },
  {
   "cell_type": "code",
   "execution_count": 60,
   "metadata": {},
   "outputs": [],
   "source": [
    "from pgmpy.models import BayesianNetwork\n",
    "from pgmpy.factors.discrete import TabularCPD\n",
    "from pgmpy.inference import VariableElimination"
   ]
  },
  {
   "cell_type": "code",
   "execution_count": 85,
   "metadata": {},
   "outputs": [],
   "source": [
    "# create the model and fit the data\n",
    "model = BayesianNetwork(graph)\n",
    "model.fit(data)\n",
    "\n",
    "# createa an inference model\n",
    "hd_infer = VariableElimination(model)"
   ]
  },
  {
   "attachments": {},
   "cell_type": "markdown",
   "metadata": {},
   "source": [
    "## Testing the Model\n",
    "Now that we have generated our model, we can test it on a few examples."
   ]
  },
  {
   "attachments": {},
   "cell_type": "markdown",
   "metadata": {},
   "source": [
    "Below is an example of a healthy female person. Notice that they do not have any disorders and all of their testing levels show they are within normal a range. Based on the trained model, this person has a very low chance of death caused by heart disease, about 10%. One thing I noticed while adding features to query over was that providing evidence for nodes that were closer to the query node provided more of a bump in the probabilities compared with nodes that were levels away from the query node. While this is obvious, seeing this occur as I added evidences to the query made me more interested in what the tabular conditional probability distributions were."
   ]
  },
  {
   "cell_type": "code",
   "execution_count": 95,
   "metadata": {},
   "outputs": [
    {
     "name": "stdout",
     "output_type": "stream",
     "text": [
      "+------------------+--------------------+\n",
      "| DEATH_EVENT      |   phi(DEATH_EVENT) |\n",
      "+==================+====================+\n",
      "| DEATH_EVENT(no)  |             0.8964 |\n",
      "+------------------+--------------------+\n",
      "| DEATH_EVENT(yes) |             0.1036 |\n",
      "+------------------+--------------------+\n"
     ]
    }
   ],
   "source": [
    "print(hd_infer.query([\"DEATH_EVENT\"], evidence={\"anaemia\":\"no\", \n",
    "                                                \"smoking\":\"no\", \n",
    "                                                \"ejection_fraction\":\"normal\", \n",
    "                                                \"diabetes\":\"no\", \n",
    "                                                \"platelets\":\"normal\",\n",
    "                                                \"sex\":\"female\",\n",
    "                                                \"age\":\"young\",\n",
    "                                                \"serum_creatinine\":\"normal\"\n",
    "                                                }))"
   ]
  },
  {
   "attachments": {},
   "cell_type": "markdown",
   "metadata": {},
   "source": [
    "The example provided below is one that a friend of mine entered where he tried to enter values based on his uncle. His uncle refuses to go to the doctor to check for heart disease; he therefore wanted to provide his uncle with some evidence of why he should. Although this simple model should not be used as a basis for medical care; if we are to take this model at face value, his uncle has a 35% chance of a death event occuring if he is diagnosed with heart disease. Hopefully a model like this can help patients quantify their health and give doctors better insight into how pressing a certain procedure might be."
   ]
  },
  {
   "cell_type": "code",
   "execution_count": 97,
   "metadata": {},
   "outputs": [
    {
     "name": "stdout",
     "output_type": "stream",
     "text": [
      "+------------------+--------------------+\n",
      "| DEATH_EVENT      |   phi(DEATH_EVENT) |\n",
      "+==================+====================+\n",
      "| DEATH_EVENT(no)  |             0.6455 |\n",
      "+------------------+--------------------+\n",
      "| DEATH_EVENT(yes) |             0.3545 |\n",
      "+------------------+--------------------+\n"
     ]
    }
   ],
   "source": [
    "print(hd_infer.query([\"DEATH_EVENT\"], evidence={\"age\":\"old\", \"diabetes\":\"yes\", \"high_blood_pressure\":\"yes\", \"sex\":\"male\", \"smoking\":\"yes\"}))"
   ]
  },
  {
   "attachments": {},
   "cell_type": "markdown",
   "metadata": {},
   "source": [
    "This last example is one of a bad case. It employs the same method as the first example."
   ]
  },
  {
   "cell_type": "code",
   "execution_count": 112,
   "metadata": {},
   "outputs": [
    {
     "name": "stdout",
     "output_type": "stream",
     "text": [
      "+------------------+--------------------+\n",
      "| DEATH_EVENT      |   phi(DEATH_EVENT) |\n",
      "+==================+====================+\n",
      "| DEATH_EVENT(no)  |             0.4364 |\n",
      "+------------------+--------------------+\n",
      "| DEATH_EVENT(yes) |             0.5636 |\n",
      "+------------------+--------------------+\n"
     ]
    }
   ],
   "source": [
    "print(hd_infer.query([\"DEATH_EVENT\"], evidence={\"smoking\":\"yes\", \n",
    "                                                \"age\":\"old\", \n",
    "                                                \"diabetes\":\"yes\",\n",
    "                                                \"serum_creatinine\":\"high\",\n",
    "                                                \"ejection_fraction\":\"very low\",\n",
    "                                                \"sex\":\"male\",\n",
    "                                                \"platelets\":\"high\"\n",
    "                                                }))"
   ]
  },
  {
   "attachments": {},
   "cell_type": "markdown",
   "metadata": {},
   "source": [
    "## Conclusions\n",
    "This was a short exploration for me to tie my interest in health and medicine together with probabilistic graphical models. I was able to explore moving from a dataset to a model fairly quickly once the data was properly cleaned. Here are a few things that I learned from this exploration:\n",
    "- Converting a continuous dataset to discrete values\n",
    "- Generating a graph structure from a tabular dataset using various search methods (I tried TreeSearch, HillClimbSearch, and ExhaustiveSearch) and better understood the pros and cons of using each. \n",
    "- automatically fitting a model to data based on a tabular dataset<br><br>\n",
    "\n",
    "Although much of this exploration was an exercise with a new package for me (pgmpy), I think it was also eye-opening in terms of understanding how much first principles are required to generate a model that is accurate. Here, I used a search method to create the model, but I think I would have preferred the accuracy of generating the model from first principles. Altogether though, this was a good look into using pgmpy to build probabalistic graphical models"
   ]
  }
 ],
 "metadata": {
  "kernelspec": {
   "display_name": "pgm",
   "language": "python",
   "name": "python3"
  },
  "language_info": {
   "codemirror_mode": {
    "name": "ipython",
    "version": 3
   },
   "file_extension": ".py",
   "mimetype": "text/x-python",
   "name": "python",
   "nbconvert_exporter": "python",
   "pygments_lexer": "ipython3",
   "version": "3.10.9"
  },
  "vscode": {
   "interpreter": {
    "hash": "eda6bef9f8152d7b044b16773aa4014f02dea69abd6637360e280b2de55d1a6b"
   }
  }
 },
 "nbformat": 4,
 "nbformat_minor": 4
}
